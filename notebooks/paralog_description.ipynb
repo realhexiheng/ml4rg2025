{
 "cells": [
  {
   "cell_type": "code",
   "execution_count": 1,
   "id": "96b9f9c7",
   "metadata": {},
   "outputs": [],
   "source": [
    "from pathlib import Path\n",
    "\n",
    "import pandas as pd\n",
    "from pybiomart import Server\n",
    "from src.data.preprocess import query_paralogs"
   ]
  },
  {
   "cell_type": "code",
   "execution_count": 2,
   "id": "b7886be2",
   "metadata": {},
   "outputs": [],
   "source": [
    "server = Server(host=\"http://www.ensembl.org\")\n",
    "dataset = server.marts[\"ENSEMBL_MART_ENSEMBL\"].datasets[\"scerevisiae_gene_ensembl\"]"
   ]
  },
  {
   "cell_type": "code",
   "execution_count": 3,
   "id": "884af9e0",
   "metadata": {},
   "outputs": [
    {
     "data": {
      "application/vnd.microsoft.datawrangler.viewer.v0+json": {
       "columns": [
        {
         "name": "index",
         "rawType": "int64",
         "type": "integer"
        },
        {
         "name": "name",
         "rawType": "object",
         "type": "string"
        },
        {
         "name": "display_name",
         "rawType": "object",
         "type": "string"
        },
        {
         "name": "description",
         "rawType": "object",
         "type": "string"
        }
       ],
       "ref": "3833f900-a77d-442c-b123-88056c3ec79f",
       "rows": [
        [
         "0",
         "ensembl_gene_id",
         "Gene stable ID",
         "Stable ID of the Gene"
        ],
        [
         "1",
         "ensembl_transcript_id",
         "Transcript stable ID",
         "Stable ID of the Transcript"
        ],
        [
         "2",
         "ensembl_peptide_id",
         "Protein stable ID",
         ""
        ],
        [
         "3",
         "ensembl_exon_id",
         "Exon stable ID",
         ""
        ],
        [
         "4",
         "description",
         "Gene description",
         ""
        ],
        [
         "5",
         "chromosome_name",
         "Chromosome/scaffold name",
         "Chromosome/scaffold name"
        ],
        [
         "6",
         "start_position",
         "Gene start (bp)",
         "Start Coordinate of the gene in chromosomal coordinates."
        ],
        [
         "7",
         "end_position",
         "Gene end (bp)",
         "End Coordinate of the gene in chromosomal coordinates."
        ],
        [
         "8",
         "strand",
         "Strand",
         "Orientation of genes on chromosome/scaffold."
        ],
        [
         "9",
         "band",
         "Karyotype band",
         "Band of chromosome/scaffold where genes occur."
        ],
        [
         "10",
         "transcript_start",
         "Transcript start (bp)",
         "Start Coordinate of the transcript in chromosomal coordinates."
        ],
        [
         "11",
         "transcript_end",
         "Transcript end (bp)",
         "End Coordinate of the gene in chromosomal coordinates."
        ],
        [
         "12",
         "transcription_start_site",
         "Transcription start site (TSS)",
         ""
        ],
        [
         "13",
         "transcript_length",
         "Transcript length (including UTRs and CDS)",
         ""
        ],
        [
         "14",
         "transcript_is_canonical",
         "Ensembl Canonical",
         ""
        ],
        [
         "15",
         "external_gene_name",
         "Gene name",
         ""
        ],
        [
         "16",
         "external_gene_source",
         "Source of gene name",
         ""
        ],
        [
         "17",
         "external_transcript_name",
         "Transcript name",
         ""
        ],
        [
         "18",
         "external_transcript_source_name",
         "Source of transcript name",
         ""
        ],
        [
         "19",
         "transcript_count",
         "Transcript count",
         ""
        ],
        [
         "20",
         "percentage_gene_gc_content",
         "Gene % GC content",
         "Percentage gene GC content"
        ],
        [
         "21",
         "gene_biotype",
         "Gene type",
         ""
        ],
        [
         "22",
         "transcript_biotype",
         "Transcript type",
         ""
        ],
        [
         "23",
         "source",
         "Source (gene)",
         ""
        ],
        [
         "24",
         "transcript_source",
         "Source (transcript)",
         ""
        ],
        [
         "25",
         "external_synonym",
         "Gene Synonym",
         ""
        ],
        [
         "26",
         "go_id",
         "GO term accession",
         ""
        ],
        [
         "27",
         "name_1006",
         "GO term name",
         ""
        ],
        [
         "28",
         "definition_1006",
         "GO term definition",
         ""
        ],
        [
         "29",
         "go_linkage_type",
         "GO term evidence code",
         ""
        ],
        [
         "30",
         "namespace_1003",
         "GO domain",
         ""
        ],
        [
         "31",
         "goslim_goa_accession",
         "GOSlim GOA Accession(s)",
         ""
        ],
        [
         "32",
         "goslim_goa_description",
         "GOSlim GOA Description",
         ""
        ],
        [
         "33",
         "chembl",
         "ChEMBL ID",
         ""
        ],
        [
         "34",
         "embl",
         "European Nucleotide Archive ID",
         ""
        ],
        [
         "35",
         "protein_id",
         "INSDC protein ID",
         ""
        ],
        [
         "36",
         "merops",
         "MEROPS - the Peptidase Database ID",
         ""
        ],
        [
         "37",
         "entrezgene_description",
         "NCBI gene (formerly Entrezgene) description",
         ""
        ],
        [
         "38",
         "entrezgene_accession",
         "NCBI gene (formerly Entrezgene) accession",
         ""
        ],
        [
         "39",
         "entrezgene_id",
         "NCBI gene (formerly Entrezgene) ID",
         ""
        ],
        [
         "40",
         "pdb",
         "PDB ID",
         ""
        ],
        [
         "41",
         "phi",
         "PHI-base accession ID",
         ""
        ],
        [
         "42",
         "refseq_dna",
         "RefSeq DNA ID",
         ""
        ],
        [
         "43",
         "refseq_peptide",
         "RefSeq peptide ID",
         ""
        ],
        [
         "44",
         "sgd_gene",
         "SGD gene name ID",
         ""
        ],
        [
         "45",
         "string",
         "STRING ID",
         ""
        ],
        [
         "46",
         "uniparc",
         "UniParc ID",
         ""
        ],
        [
         "47",
         "uniprotkb_all",
         "UniProtKB generic accession number (TrEMBL or SwissProt not differentiated) ID",
         ""
        ],
        [
         "48",
         "uniprotvarsplic",
         "UniProtKB/SpliceVariant ID",
         ""
        ],
        [
         "49",
         "uniprotswissprot",
         "UniProtKB/Swiss-Prot ID",
         ""
        ]
       ],
       "shape": {
        "columns": 3,
        "rows": 2715
       }
      },
      "text/html": [
       "<div>\n",
       "<style scoped>\n",
       "    .dataframe tbody tr th:only-of-type {\n",
       "        vertical-align: middle;\n",
       "    }\n",
       "\n",
       "    .dataframe tbody tr th {\n",
       "        vertical-align: top;\n",
       "    }\n",
       "\n",
       "    .dataframe thead th {\n",
       "        text-align: right;\n",
       "    }\n",
       "</style>\n",
       "<table border=\"1\" class=\"dataframe\">\n",
       "  <thead>\n",
       "    <tr style=\"text-align: right;\">\n",
       "      <th></th>\n",
       "      <th>name</th>\n",
       "      <th>display_name</th>\n",
       "      <th>description</th>\n",
       "    </tr>\n",
       "  </thead>\n",
       "  <tbody>\n",
       "    <tr>\n",
       "      <th>0</th>\n",
       "      <td>ensembl_gene_id</td>\n",
       "      <td>Gene stable ID</td>\n",
       "      <td>Stable ID of the Gene</td>\n",
       "    </tr>\n",
       "    <tr>\n",
       "      <th>1</th>\n",
       "      <td>ensembl_transcript_id</td>\n",
       "      <td>Transcript stable ID</td>\n",
       "      <td>Stable ID of the Transcript</td>\n",
       "    </tr>\n",
       "    <tr>\n",
       "      <th>2</th>\n",
       "      <td>ensembl_peptide_id</td>\n",
       "      <td>Protein stable ID</td>\n",
       "      <td></td>\n",
       "    </tr>\n",
       "    <tr>\n",
       "      <th>3</th>\n",
       "      <td>ensembl_exon_id</td>\n",
       "      <td>Exon stable ID</td>\n",
       "      <td></td>\n",
       "    </tr>\n",
       "    <tr>\n",
       "      <th>4</th>\n",
       "      <td>description</td>\n",
       "      <td>Gene description</td>\n",
       "      <td></td>\n",
       "    </tr>\n",
       "    <tr>\n",
       "      <th>...</th>\n",
       "      <td>...</td>\n",
       "      <td>...</td>\n",
       "      <td>...</td>\n",
       "    </tr>\n",
       "    <tr>\n",
       "      <th>2710</th>\n",
       "      <td>sequence_genomic_coding_end</td>\n",
       "      <td>Genomic coding end</td>\n",
       "      <td></td>\n",
       "    </tr>\n",
       "    <tr>\n",
       "      <th>2711</th>\n",
       "      <td>sequence_constitutive</td>\n",
       "      <td></td>\n",
       "      <td></td>\n",
       "    </tr>\n",
       "    <tr>\n",
       "      <th>2712</th>\n",
       "      <td>cds_length</td>\n",
       "      <td>CDS Length</td>\n",
       "      <td></td>\n",
       "    </tr>\n",
       "    <tr>\n",
       "      <th>2713</th>\n",
       "      <td>cds_start</td>\n",
       "      <td>CDS start</td>\n",
       "      <td></td>\n",
       "    </tr>\n",
       "    <tr>\n",
       "      <th>2714</th>\n",
       "      <td>cds_end</td>\n",
       "      <td>CDS end</td>\n",
       "      <td></td>\n",
       "    </tr>\n",
       "  </tbody>\n",
       "</table>\n",
       "<p>2715 rows × 3 columns</p>\n",
       "</div>"
      ],
      "text/plain": [
       "                             name          display_name  \\\n",
       "0                 ensembl_gene_id        Gene stable ID   \n",
       "1           ensembl_transcript_id  Transcript stable ID   \n",
       "2              ensembl_peptide_id     Protein stable ID   \n",
       "3                 ensembl_exon_id        Exon stable ID   \n",
       "4                     description      Gene description   \n",
       "...                           ...                   ...   \n",
       "2710  sequence_genomic_coding_end    Genomic coding end   \n",
       "2711        sequence_constitutive                         \n",
       "2712                   cds_length            CDS Length   \n",
       "2713                    cds_start             CDS start   \n",
       "2714                      cds_end               CDS end   \n",
       "\n",
       "                      description  \n",
       "0           Stable ID of the Gene  \n",
       "1     Stable ID of the Transcript  \n",
       "2                                  \n",
       "3                                  \n",
       "4                                  \n",
       "...                           ...  \n",
       "2710                               \n",
       "2711                               \n",
       "2712                               \n",
       "2713                               \n",
       "2714                               \n",
       "\n",
       "[2715 rows x 3 columns]"
      ]
     },
     "execution_count": 3,
     "metadata": {},
     "output_type": "execute_result"
    }
   ],
   "source": [
    "dataset.list_attributes()"
   ]
  },
  {
   "cell_type": "code",
   "execution_count": 4,
   "id": "d18f2b6f",
   "metadata": {},
   "outputs": [
    {
     "data": {
      "application/vnd.microsoft.datawrangler.viewer.v0+json": {
       "columns": [
        {
         "name": "index",
         "rawType": "int64",
         "type": "integer"
        },
        {
         "name": "name",
         "rawType": "object",
         "type": "string"
        },
        {
         "name": "type",
         "rawType": "object",
         "type": "string"
        },
        {
         "name": "description",
         "rawType": "object",
         "type": "string"
        }
       ],
       "ref": "c6b3eae9-78d2-400a-8dfa-4628f395ec24",
       "rows": [
        [
         "0",
         "link_so_mini_closure",
         "list",
         ""
        ],
        [
         "1",
         "link_go_closure",
         "text",
         ""
        ],
        [
         "2",
         "link_ensembl_transcript_stable_id",
         "text",
         ""
        ],
        [
         "3",
         "gene_id",
         "text",
         ""
        ],
        [
         "4",
         "transcript_id",
         "text",
         ""
        ],
        [
         "5",
         "link_ensembl_gene_id",
         "text",
         ""
        ],
        [
         "6",
         "chromosome_name",
         "text",
         ""
        ],
        [
         "7",
         "start",
         "text",
         ""
        ],
        [
         "8",
         "end",
         "text",
         ""
        ],
        [
         "9",
         "strand",
         "text",
         ""
        ],
        [
         "10",
         "chromosomal_region",
         "text",
         ""
        ],
        [
         "11",
         "id_list_xrefs_filters",
         "boolean_list",
         ""
        ],
        [
         "12",
         "id_list_limit_xrefs_filters",
         "id_list",
         ""
        ],
        [
         "13",
         "transcript_count_greater_than",
         "text",
         ""
        ],
        [
         "14",
         "transcript_count_less_than",
         "text",
         ""
        ],
        [
         "15",
         "biotype",
         "list",
         ""
        ],
        [
         "16",
         "transcript_biotype",
         "list",
         ""
        ],
        [
         "17",
         "source",
         "list",
         ""
        ],
        [
         "18",
         "transcript_source",
         "list",
         ""
        ],
        [
         "19",
         "transcript_is_canonical",
         "boolean",
         ""
        ],
        [
         "20",
         "go_clos",
         "",
         ""
        ],
        [
         "21",
         "go_name",
         "",
         ""
        ],
        [
         "22",
         "go_evidence_code",
         "list",
         ""
        ],
        [
         "23",
         "homolog_filters",
         "boolean_list",
         ""
        ],
        [
         "24",
         "id_list_protein_domain_and_feature_filters",
         "boolean_list",
         ""
        ],
        [
         "25",
         "id_list_limit_protein_domain_filters",
         "id_list",
         ""
        ],
        [
         "26",
         "germ_line_variation_source",
         "list",
         ""
        ],
        [
         "27",
         "with_validated_snp",
         "boolean",
         ""
        ],
        [
         "28",
         "so_consequence_name",
         "list",
         ""
        ]
       ],
       "shape": {
        "columns": 3,
        "rows": 29
       }
      },
      "text/html": [
       "<div>\n",
       "<style scoped>\n",
       "    .dataframe tbody tr th:only-of-type {\n",
       "        vertical-align: middle;\n",
       "    }\n",
       "\n",
       "    .dataframe tbody tr th {\n",
       "        vertical-align: top;\n",
       "    }\n",
       "\n",
       "    .dataframe thead th {\n",
       "        text-align: right;\n",
       "    }\n",
       "</style>\n",
       "<table border=\"1\" class=\"dataframe\">\n",
       "  <thead>\n",
       "    <tr style=\"text-align: right;\">\n",
       "      <th></th>\n",
       "      <th>name</th>\n",
       "      <th>type</th>\n",
       "      <th>description</th>\n",
       "    </tr>\n",
       "  </thead>\n",
       "  <tbody>\n",
       "    <tr>\n",
       "      <th>0</th>\n",
       "      <td>link_so_mini_closure</td>\n",
       "      <td>list</td>\n",
       "      <td></td>\n",
       "    </tr>\n",
       "    <tr>\n",
       "      <th>1</th>\n",
       "      <td>link_go_closure</td>\n",
       "      <td>text</td>\n",
       "      <td></td>\n",
       "    </tr>\n",
       "    <tr>\n",
       "      <th>2</th>\n",
       "      <td>link_ensembl_transcript_stable_id</td>\n",
       "      <td>text</td>\n",
       "      <td></td>\n",
       "    </tr>\n",
       "    <tr>\n",
       "      <th>3</th>\n",
       "      <td>gene_id</td>\n",
       "      <td>text</td>\n",
       "      <td></td>\n",
       "    </tr>\n",
       "    <tr>\n",
       "      <th>4</th>\n",
       "      <td>transcript_id</td>\n",
       "      <td>text</td>\n",
       "      <td></td>\n",
       "    </tr>\n",
       "    <tr>\n",
       "      <th>5</th>\n",
       "      <td>link_ensembl_gene_id</td>\n",
       "      <td>text</td>\n",
       "      <td></td>\n",
       "    </tr>\n",
       "    <tr>\n",
       "      <th>6</th>\n",
       "      <td>chromosome_name</td>\n",
       "      <td>text</td>\n",
       "      <td></td>\n",
       "    </tr>\n",
       "    <tr>\n",
       "      <th>7</th>\n",
       "      <td>start</td>\n",
       "      <td>text</td>\n",
       "      <td></td>\n",
       "    </tr>\n",
       "    <tr>\n",
       "      <th>8</th>\n",
       "      <td>end</td>\n",
       "      <td>text</td>\n",
       "      <td></td>\n",
       "    </tr>\n",
       "    <tr>\n",
       "      <th>9</th>\n",
       "      <td>strand</td>\n",
       "      <td>text</td>\n",
       "      <td></td>\n",
       "    </tr>\n",
       "    <tr>\n",
       "      <th>10</th>\n",
       "      <td>chromosomal_region</td>\n",
       "      <td>text</td>\n",
       "      <td></td>\n",
       "    </tr>\n",
       "    <tr>\n",
       "      <th>11</th>\n",
       "      <td>id_list_xrefs_filters</td>\n",
       "      <td>boolean_list</td>\n",
       "      <td></td>\n",
       "    </tr>\n",
       "    <tr>\n",
       "      <th>12</th>\n",
       "      <td>id_list_limit_xrefs_filters</td>\n",
       "      <td>id_list</td>\n",
       "      <td></td>\n",
       "    </tr>\n",
       "    <tr>\n",
       "      <th>13</th>\n",
       "      <td>transcript_count_greater_than</td>\n",
       "      <td>text</td>\n",
       "      <td></td>\n",
       "    </tr>\n",
       "    <tr>\n",
       "      <th>14</th>\n",
       "      <td>transcript_count_less_than</td>\n",
       "      <td>text</td>\n",
       "      <td></td>\n",
       "    </tr>\n",
       "    <tr>\n",
       "      <th>15</th>\n",
       "      <td>biotype</td>\n",
       "      <td>list</td>\n",
       "      <td></td>\n",
       "    </tr>\n",
       "    <tr>\n",
       "      <th>16</th>\n",
       "      <td>transcript_biotype</td>\n",
       "      <td>list</td>\n",
       "      <td></td>\n",
       "    </tr>\n",
       "    <tr>\n",
       "      <th>17</th>\n",
       "      <td>source</td>\n",
       "      <td>list</td>\n",
       "      <td></td>\n",
       "    </tr>\n",
       "    <tr>\n",
       "      <th>18</th>\n",
       "      <td>transcript_source</td>\n",
       "      <td>list</td>\n",
       "      <td></td>\n",
       "    </tr>\n",
       "    <tr>\n",
       "      <th>19</th>\n",
       "      <td>transcript_is_canonical</td>\n",
       "      <td>boolean</td>\n",
       "      <td></td>\n",
       "    </tr>\n",
       "    <tr>\n",
       "      <th>20</th>\n",
       "      <td>go_clos</td>\n",
       "      <td></td>\n",
       "      <td></td>\n",
       "    </tr>\n",
       "    <tr>\n",
       "      <th>21</th>\n",
       "      <td>go_name</td>\n",
       "      <td></td>\n",
       "      <td></td>\n",
       "    </tr>\n",
       "    <tr>\n",
       "      <th>22</th>\n",
       "      <td>go_evidence_code</td>\n",
       "      <td>list</td>\n",
       "      <td></td>\n",
       "    </tr>\n",
       "    <tr>\n",
       "      <th>23</th>\n",
       "      <td>homolog_filters</td>\n",
       "      <td>boolean_list</td>\n",
       "      <td></td>\n",
       "    </tr>\n",
       "    <tr>\n",
       "      <th>24</th>\n",
       "      <td>id_list_protein_domain_and_feature_filters</td>\n",
       "      <td>boolean_list</td>\n",
       "      <td></td>\n",
       "    </tr>\n",
       "    <tr>\n",
       "      <th>25</th>\n",
       "      <td>id_list_limit_protein_domain_filters</td>\n",
       "      <td>id_list</td>\n",
       "      <td></td>\n",
       "    </tr>\n",
       "    <tr>\n",
       "      <th>26</th>\n",
       "      <td>germ_line_variation_source</td>\n",
       "      <td>list</td>\n",
       "      <td></td>\n",
       "    </tr>\n",
       "    <tr>\n",
       "      <th>27</th>\n",
       "      <td>with_validated_snp</td>\n",
       "      <td>boolean</td>\n",
       "      <td></td>\n",
       "    </tr>\n",
       "    <tr>\n",
       "      <th>28</th>\n",
       "      <td>so_consequence_name</td>\n",
       "      <td>list</td>\n",
       "      <td></td>\n",
       "    </tr>\n",
       "  </tbody>\n",
       "</table>\n",
       "</div>"
      ],
      "text/plain": [
       "                                          name          type description\n",
       "0                         link_so_mini_closure          list            \n",
       "1                              link_go_closure          text            \n",
       "2            link_ensembl_transcript_stable_id          text            \n",
       "3                                      gene_id          text            \n",
       "4                                transcript_id          text            \n",
       "5                         link_ensembl_gene_id          text            \n",
       "6                              chromosome_name          text            \n",
       "7                                        start          text            \n",
       "8                                          end          text            \n",
       "9                                       strand          text            \n",
       "10                          chromosomal_region          text            \n",
       "11                       id_list_xrefs_filters  boolean_list            \n",
       "12                 id_list_limit_xrefs_filters       id_list            \n",
       "13               transcript_count_greater_than          text            \n",
       "14                  transcript_count_less_than          text            \n",
       "15                                     biotype          list            \n",
       "16                          transcript_biotype          list            \n",
       "17                                      source          list            \n",
       "18                           transcript_source          list            \n",
       "19                     transcript_is_canonical       boolean            \n",
       "20                                     go_clos                          \n",
       "21                                     go_name                          \n",
       "22                            go_evidence_code          list            \n",
       "23                             homolog_filters  boolean_list            \n",
       "24  id_list_protein_domain_and_feature_filters  boolean_list            \n",
       "25        id_list_limit_protein_domain_filters       id_list            \n",
       "26                  germ_line_variation_source          list            \n",
       "27                          with_validated_snp       boolean            \n",
       "28                         so_consequence_name          list            "
      ]
     },
     "execution_count": 4,
     "metadata": {},
     "output_type": "execute_result"
    }
   ],
   "source": [
    "dataset.list_filters()"
   ]
  },
  {
   "cell_type": "code",
   "execution_count": 5,
   "id": "8ca6e649",
   "metadata": {},
   "outputs": [
    {
     "name": "stdout",
     "output_type": "stream",
     "text": [
      "Querying BioMart for paralogs of 6705 genes...\n"
     ]
    },
    {
     "data": {
      "application/vnd.microsoft.datawrangler.viewer.v0+json": {
       "columns": [
        {
         "name": "index",
         "rawType": "int64",
         "type": "integer"
        },
        {
         "name": "gene",
         "rawType": "object",
         "type": "string"
        },
        {
         "name": "paralog_ensembl_id",
         "rawType": "object",
         "type": "string"
        },
        {
         "name": "strand",
         "rawType": "int64",
         "type": "integer"
        },
        {
         "name": "paralog_chromosome",
         "rawType": "object",
         "type": "string"
        },
        {
         "name": "orthology_type",
         "rawType": "object",
         "type": "string"
        },
        {
         "name": "percent_identity",
         "rawType": "float64",
         "type": "float"
        },
        {
         "name": "percent_identity_r1",
         "rawType": "float64",
         "type": "float"
        }
       ],
       "ref": "e9f4a2a3-ad19-4680-af97-6872bcab5a04",
       "rows": [
        [
         "3",
         "YOR185C",
         "YLR293C",
         "-1",
         "XII",
         "within_species_paralog",
         "97.2727",
         "97.7169"
        ],
        [
         "4",
         "YLL032C",
         "YJL080C",
         "-1",
         "X",
         "other_paralog",
         "7.39394",
         "4.99182"
        ],
        [
         "6",
         "YEL041W",
         "YJR049C",
         "1",
         "X",
         "within_species_paralog",
         "50.7071",
         "47.3585"
        ],
        [
         "7",
         "YOR237W",
         "YPL145C",
         "1",
         "XVI",
         "within_species_paralog",
         "69.5853",
         "69.5853"
        ],
        [
         "8",
         "YOR237W",
         "YKR003W",
         "1",
         "XI",
         "other_paralog",
         "20.9677",
         "20.3125"
        ],
        [
         "9",
         "YOR237W",
         "YHR001W",
         "1",
         "VIII",
         "other_paralog",
         "20.5069",
         "20.3661"
        ],
        [
         "10",
         "YOR237W",
         "YDL019C",
         "1",
         "IV",
         "other_paralog",
         "20.0461",
         "6.78098"
        ],
        [
         "11",
         "YOR237W",
         "YAR042W",
         "1",
         "I",
         "other_paralog",
         "19.1244",
         "6.98653"
        ],
        [
         "18",
         "YBL055C",
         "YMR262W",
         "-1",
         "XIII",
         "other_paralog",
         "13.3971",
         "17.8914"
        ],
        [
         "21",
         "YDL246C",
         "YCR102C",
         "-1",
         "III",
         "other_paralog",
         "14.8459",
         "14.4022"
        ],
        [
         "22",
         "YDL246C",
         "YNL134C",
         "-1",
         "XIV",
         "other_paralog",
         "16.5266",
         "15.6915"
        ],
        [
         "23",
         "YDL246C",
         "YLR460C",
         "-1",
         "XII",
         "other_paralog",
         "14.2857",
         "13.5638"
        ],
        [
         "24",
         "YDL246C",
         "YBR046C",
         "-1",
         "II",
         "other_paralog",
         "21.8487",
         "23.3533"
        ],
        [
         "25",
         "YDL246C",
         "YMR083W",
         "-1",
         "XIII",
         "other_paralog",
         "17.6471",
         "16.8"
        ],
        [
         "26",
         "YDL246C",
         "YMR303C",
         "-1",
         "XIII",
         "other_paralog",
         "16.8067",
         "17.2414"
        ],
        [
         "27",
         "YDL246C",
         "YOL086C",
         "-1",
         "XV",
         "other_paralog",
         "16.8067",
         "17.2414"
        ],
        [
         "28",
         "YDL246C",
         "YBR145W",
         "-1",
         "II",
         "other_paralog",
         "17.6471",
         "17.9487"
        ],
        [
         "29",
         "YDL246C",
         "YDL168W",
         "-1",
         "IV",
         "other_paralog",
         "20.1681",
         "18.6528"
        ],
        [
         "30",
         "YDL246C",
         "YAL061W",
         "-1",
         "I",
         "other_paralog",
         "25.2101",
         "21.5827"
        ],
        [
         "31",
         "YDL246C",
         "YAL060W",
         "-1",
         "I",
         "other_paralog",
         "28.0112",
         "26.178"
        ],
        [
         "32",
         "YDL246C",
         "YMR152W",
         "-1",
         "XIII",
         "other_paralog",
         "14.8459",
         "14.5205"
        ],
        [
         "33",
         "YDL246C",
         "YBR026C",
         "-1",
         "II",
         "other_paralog",
         "14.2857",
         "13.4211"
        ],
        [
         "34",
         "YDL246C",
         "YMR318C",
         "-1",
         "XIII",
         "other_paralog",
         "20.4482",
         "20.2778"
        ],
        [
         "35",
         "YDL246C",
         "YCR105W",
         "-1",
         "III",
         "other_paralog",
         "19.0476",
         "18.8366"
        ],
        [
         "36",
         "YDL246C",
         "YBL069W",
         "-1",
         "II",
         "other_paralog",
         "12.8852",
         "10.7226"
        ],
        [
         "37",
         "YDL246C",
         "YER101C",
         "-1",
         "V",
         "other_paralog",
         "12.605",
         "10.4651"
        ],
        [
         "38",
         "YDL246C",
         "YBL068W-A",
         "-1",
         "II",
         "other_paralog",
         "2.2409",
         "10.2564"
        ],
        [
         "39",
         "YDL246C",
         "YJR159W",
         "-1",
         "X",
         "within_species_paralog",
         "99.7199",
         "99.7199"
        ],
        [
         "40",
         "YDL246C",
         "YLR070C",
         "-1",
         "XII",
         "within_species_paralog",
         "52.9412",
         "53.0899"
        ],
        [
         "41",
         "YDL243C",
         "YJR155W",
         "-1",
         "X",
         "within_species_paralog",
         "80.5471",
         "92.0139"
        ],
        [
         "42",
         "YDL243C",
         "YNL331C",
         "-1",
         "XIV",
         "within_species_paralog",
         "93.0091",
         "81.383"
        ],
        [
         "43",
         "YDL243C",
         "YCR107W",
         "-1",
         "III",
         "within_species_paralog",
         "77.8116",
         "70.5234"
        ],
        [
         "44",
         "YDL243C",
         "YOL165C",
         "-1",
         "XV",
         "within_species_paralog",
         "31.6109",
         "72.7273"
        ],
        [
         "45",
         "YDL243C",
         "YOR120W",
         "-1",
         "XV",
         "other_paralog",
         "13.3739",
         "14.1026"
        ],
        [
         "46",
         "YDL243C",
         "YDR368W",
         "-1",
         "IV",
         "other_paralog",
         "11.8541",
         "12.5"
        ],
        [
         "47",
         "YDL243C",
         "YDL124W",
         "-1",
         "IV",
         "other_paralog",
         "11.8541",
         "12.5"
        ],
        [
         "48",
         "YDL243C",
         "YMR041C",
         "-1",
         "XIII",
         "other_paralog",
         "16.1094",
         "15.8209"
        ],
        [
         "49",
         "YDR387C",
         "YDR497C",
         "-1",
         "IV",
         "within_species_paralog",
         "29.9099",
         "28.4247"
        ],
        [
         "50",
         "YDR387C",
         "YOL103W",
         "-1",
         "XV",
         "within_species_paralog",
         "29.7297",
         "27.0936"
        ],
        [
         "51",
         "YDR387C",
         "YGL104C",
         "-1",
         "VII",
         "other_paralog",
         "20.9009",
         "23.8683"
        ],
        [
         "52",
         "YDR387C",
         "YBR241C",
         "-1",
         "II",
         "other_paralog",
         "21.4414",
         "24.3852"
        ],
        [
         "53",
         "YDR387C",
         "YJL219W",
         "-1",
         "X",
         "other_paralog",
         "21.8018",
         "21.3404"
        ],
        [
         "54",
         "YDR387C",
         "YHR094C",
         "-1",
         "VIII",
         "other_paralog",
         "20.7207",
         "20.1754"
        ],
        [
         "55",
         "YDR387C",
         "YFL011W",
         "-1",
         "VI",
         "other_paralog",
         "19.8198",
         "20.1465"
        ],
        [
         "56",
         "YDR387C",
         "YNR072W",
         "-1",
         "XIV",
         "other_paralog",
         "18.3784",
         "18.0851"
        ],
        [
         "57",
         "YDR387C",
         "YDR345C",
         "-1",
         "IV",
         "other_paralog",
         "20.5405",
         "20.1058"
        ],
        [
         "58",
         "YDR387C",
         "YDR342C",
         "-1",
         "IV",
         "other_paralog",
         "21.2613",
         "20.7018"
        ],
        [
         "59",
         "YDR387C",
         "YOL156W",
         "-1",
         "XV",
         "other_paralog",
         "21.982",
         "21.5168"
        ],
        [
         "60",
         "YDR387C",
         "YJL214W",
         "-1",
         "X",
         "other_paralog",
         "20.9009",
         "20.3866"
        ],
        [
         "61",
         "YDR387C",
         "YDR343C",
         "-1",
         "IV",
         "other_paralog",
         "21.2613",
         "20.7018"
        ]
       ],
       "shape": {
        "columns": 7,
        "rows": 11278
       }
      },
      "text/html": [
       "<div>\n",
       "<style scoped>\n",
       "    .dataframe tbody tr th:only-of-type {\n",
       "        vertical-align: middle;\n",
       "    }\n",
       "\n",
       "    .dataframe tbody tr th {\n",
       "        vertical-align: top;\n",
       "    }\n",
       "\n",
       "    .dataframe thead th {\n",
       "        text-align: right;\n",
       "    }\n",
       "</style>\n",
       "<table border=\"1\" class=\"dataframe\">\n",
       "  <thead>\n",
       "    <tr style=\"text-align: right;\">\n",
       "      <th></th>\n",
       "      <th>gene</th>\n",
       "      <th>paralog_ensembl_id</th>\n",
       "      <th>strand</th>\n",
       "      <th>paralog_chromosome</th>\n",
       "      <th>orthology_type</th>\n",
       "      <th>percent_identity</th>\n",
       "      <th>percent_identity_r1</th>\n",
       "    </tr>\n",
       "  </thead>\n",
       "  <tbody>\n",
       "    <tr>\n",
       "      <th>3</th>\n",
       "      <td>YOR185C</td>\n",
       "      <td>YLR293C</td>\n",
       "      <td>-1</td>\n",
       "      <td>XII</td>\n",
       "      <td>within_species_paralog</td>\n",
       "      <td>97.27270</td>\n",
       "      <td>97.71690</td>\n",
       "    </tr>\n",
       "    <tr>\n",
       "      <th>4</th>\n",
       "      <td>YLL032C</td>\n",
       "      <td>YJL080C</td>\n",
       "      <td>-1</td>\n",
       "      <td>X</td>\n",
       "      <td>other_paralog</td>\n",
       "      <td>7.39394</td>\n",
       "      <td>4.99182</td>\n",
       "    </tr>\n",
       "    <tr>\n",
       "      <th>6</th>\n",
       "      <td>YEL041W</td>\n",
       "      <td>YJR049C</td>\n",
       "      <td>1</td>\n",
       "      <td>X</td>\n",
       "      <td>within_species_paralog</td>\n",
       "      <td>50.70710</td>\n",
       "      <td>47.35850</td>\n",
       "    </tr>\n",
       "    <tr>\n",
       "      <th>7</th>\n",
       "      <td>YOR237W</td>\n",
       "      <td>YPL145C</td>\n",
       "      <td>1</td>\n",
       "      <td>XVI</td>\n",
       "      <td>within_species_paralog</td>\n",
       "      <td>69.58530</td>\n",
       "      <td>69.58530</td>\n",
       "    </tr>\n",
       "    <tr>\n",
       "      <th>8</th>\n",
       "      <td>YOR237W</td>\n",
       "      <td>YKR003W</td>\n",
       "      <td>1</td>\n",
       "      <td>XI</td>\n",
       "      <td>other_paralog</td>\n",
       "      <td>20.96770</td>\n",
       "      <td>20.31250</td>\n",
       "    </tr>\n",
       "    <tr>\n",
       "      <th>...</th>\n",
       "      <td>...</td>\n",
       "      <td>...</td>\n",
       "      <td>...</td>\n",
       "      <td>...</td>\n",
       "      <td>...</td>\n",
       "      <td>...</td>\n",
       "      <td>...</td>\n",
       "    </tr>\n",
       "    <tr>\n",
       "      <th>15281</th>\n",
       "      <td>YDL245C</td>\n",
       "      <td>YJR160C</td>\n",
       "      <td>-1</td>\n",
       "      <td>X</td>\n",
       "      <td>other_paralog</td>\n",
       "      <td>15.34390</td>\n",
       "      <td>14.45180</td>\n",
       "    </tr>\n",
       "    <tr>\n",
       "      <th>15282</th>\n",
       "      <td>YDL245C</td>\n",
       "      <td>YBR298C</td>\n",
       "      <td>-1</td>\n",
       "      <td>II</td>\n",
       "      <td>other_paralog</td>\n",
       "      <td>14.63840</td>\n",
       "      <td>13.51790</td>\n",
       "    </tr>\n",
       "    <tr>\n",
       "      <th>15283</th>\n",
       "      <td>YDL245C</td>\n",
       "      <td>YGR289C</td>\n",
       "      <td>-1</td>\n",
       "      <td>VII</td>\n",
       "      <td>other_paralog</td>\n",
       "      <td>15.52030</td>\n",
       "      <td>14.28570</td>\n",
       "    </tr>\n",
       "    <tr>\n",
       "      <th>15284</th>\n",
       "      <td>YDL245C</td>\n",
       "      <td>YDL247W</td>\n",
       "      <td>-1</td>\n",
       "      <td>IV</td>\n",
       "      <td>other_paralog</td>\n",
       "      <td>15.16750</td>\n",
       "      <td>14.12150</td>\n",
       "    </tr>\n",
       "    <tr>\n",
       "      <th>15285</th>\n",
       "      <td>YBR024W</td>\n",
       "      <td>YBR037C</td>\n",
       "      <td>1</td>\n",
       "      <td>II</td>\n",
       "      <td>within_species_paralog</td>\n",
       "      <td>55.81400</td>\n",
       "      <td>56.94920</td>\n",
       "    </tr>\n",
       "  </tbody>\n",
       "</table>\n",
       "<p>11278 rows × 7 columns</p>\n",
       "</div>"
      ],
      "text/plain": [
       "          gene paralog_ensembl_id  strand paralog_chromosome  \\\n",
       "3      YOR185C            YLR293C      -1                XII   \n",
       "4      YLL032C            YJL080C      -1                  X   \n",
       "6      YEL041W            YJR049C       1                  X   \n",
       "7      YOR237W            YPL145C       1                XVI   \n",
       "8      YOR237W            YKR003W       1                 XI   \n",
       "...        ...                ...     ...                ...   \n",
       "15281  YDL245C            YJR160C      -1                  X   \n",
       "15282  YDL245C            YBR298C      -1                 II   \n",
       "15283  YDL245C            YGR289C      -1                VII   \n",
       "15284  YDL245C            YDL247W      -1                 IV   \n",
       "15285  YBR024W            YBR037C       1                 II   \n",
       "\n",
       "               orthology_type  percent_identity  percent_identity_r1  \n",
       "3      within_species_paralog          97.27270             97.71690  \n",
       "4               other_paralog           7.39394              4.99182  \n",
       "6      within_species_paralog          50.70710             47.35850  \n",
       "7      within_species_paralog          69.58530             69.58530  \n",
       "8               other_paralog          20.96770             20.31250  \n",
       "...                       ...               ...                  ...  \n",
       "15281           other_paralog          15.34390             14.45180  \n",
       "15282           other_paralog          14.63840             13.51790  \n",
       "15283           other_paralog          15.52030             14.28570  \n",
       "15284           other_paralog          15.16750             14.12150  \n",
       "15285  within_species_paralog          55.81400             56.94920  \n",
       "\n",
       "[11278 rows x 7 columns]"
      ]
     },
     "execution_count": 5,
     "metadata": {},
     "output_type": "execute_result"
    }
   ],
   "source": [
    "summary = pd.read_csv(\n",
    "    Path(\"../data/summary.csv\"), usecols=[\"gene\", \"chromosome\", \"strand\"]\n",
    ")\n",
    "summary\n",
    "\n",
    "genes = summary[\"gene\"].tolist()\n",
    "paralogs = query_paralogs(genes)\n",
    "paralogs = paralogs.dropna(subset=[\"paralog_ensembl_id\"])\n",
    "paralogs"
   ]
  },
  {
   "cell_type": "code",
   "execution_count": null,
   "id": "7b5cd461",
   "metadata": {},
   "outputs": [
    {
     "name": "stdout",
     "output_type": "stream",
     "text": [
      "Querying BioMart for paralogs of 6705 genes...\n"
     ]
    },
    {
     "data": {
      "application/vnd.microsoft.datawrangler.viewer.v0+json": {
       "columns": [
        {
         "name": "index",
         "rawType": "int64",
         "type": "integer"
        },
        {
         "name": "go_id",
         "rawType": "object",
         "type": "unknown"
        },
        {
         "name": "interpro",
         "rawType": "object",
         "type": "unknown"
        },
        {
         "name": "pfam",
         "rawType": "object",
         "type": "unknown"
        },
        {
         "name": "gene",
         "rawType": "object",
         "type": "string"
        }
       ],
       "ref": "e81086a2-a380-49ff-b930-48f0eb8223b9",
       "rows": [
        [
         "0",
         "GO:0005737",
         null,
         null,
         "YPL071C"
        ],
        [
         "1",
         "GO:0003674",
         null,
         null,
         "YPL071C"
        ],
        [
         "2",
         "GO:0008150",
         null,
         null,
         "YPL071C"
        ],
        [
         "3",
         "GO:0005634",
         null,
         null,
         "YPL071C"
        ],
        [
         "4",
         "GO:0015629",
         "IPR002108",
         "PF00241",
         "YLL050C"
        ],
        [
         "5",
         "GO:0003779",
         "IPR002108",
         "PF00241",
         "YLL050C"
        ],
        [
         "6",
         "GO:0051015",
         "IPR002108",
         "PF00241",
         "YLL050C"
        ],
        [
         "7",
         "GO:0030479",
         "IPR002108",
         "PF00241",
         "YLL050C"
        ],
        [
         "8",
         "GO:0005737",
         "IPR002108",
         "PF00241",
         "YLL050C"
        ],
        [
         "9",
         "GO:0007015",
         "IPR002108",
         "PF00241",
         "YLL050C"
        ],
        [
         "10",
         "GO:0030042",
         "IPR002108",
         "PF00241",
         "YLL050C"
        ],
        [
         "11",
         "GO:0006897",
         "IPR002108",
         "PF00241",
         "YLL050C"
        ],
        [
         "12",
         "GO:0005886",
         "IPR002108",
         "PF00241",
         "YLL050C"
        ],
        [
         "13",
         "GO:0051014",
         "IPR002108",
         "PF00241",
         "YLL050C"
        ],
        [
         "14",
         "GO:0043001",
         "IPR002108",
         "PF00241",
         "YLL050C"
        ],
        [
         "15",
         "GO:0016363",
         "IPR002108",
         "PF00241",
         "YLL050C"
        ],
        [
         "16",
         "GO:0005515",
         "IPR002108",
         "PF00241",
         "YLL050C"
        ],
        [
         "17",
         "GO:0005634",
         "IPR002108",
         "PF00241",
         "YLL050C"
        ],
        [
         "18",
         "GO:0005856",
         "IPR002108",
         "PF00241",
         "YLL050C"
        ],
        [
         "19",
         "GO:0015629",
         "IPR017904",
         "PF00241",
         "YLL050C"
        ],
        [
         "20",
         "GO:0003779",
         "IPR017904",
         "PF00241",
         "YLL050C"
        ],
        [
         "21",
         "GO:0051015",
         "IPR017904",
         "PF00241",
         "YLL050C"
        ],
        [
         "22",
         "GO:0030479",
         "IPR017904",
         "PF00241",
         "YLL050C"
        ],
        [
         "23",
         "GO:0005737",
         "IPR017904",
         "PF00241",
         "YLL050C"
        ],
        [
         "24",
         "GO:0007015",
         "IPR017904",
         "PF00241",
         "YLL050C"
        ],
        [
         "25",
         "GO:0030042",
         "IPR017904",
         "PF00241",
         "YLL050C"
        ],
        [
         "26",
         "GO:0006897",
         "IPR017904",
         "PF00241",
         "YLL050C"
        ],
        [
         "27",
         "GO:0005886",
         "IPR017904",
         "PF00241",
         "YLL050C"
        ],
        [
         "28",
         "GO:0051014",
         "IPR017904",
         "PF00241",
         "YLL050C"
        ],
        [
         "29",
         "GO:0043001",
         "IPR017904",
         "PF00241",
         "YLL050C"
        ],
        [
         "30",
         "GO:0016363",
         "IPR017904",
         "PF00241",
         "YLL050C"
        ],
        [
         "31",
         "GO:0005515",
         "IPR017904",
         "PF00241",
         "YLL050C"
        ],
        [
         "32",
         "GO:0005634",
         "IPR017904",
         "PF00241",
         "YLL050C"
        ],
        [
         "33",
         "GO:0005856",
         "IPR017904",
         "PF00241",
         "YLL050C"
        ],
        [
         "34",
         "GO:0015629",
         "IPR029006",
         "PF00241",
         "YLL050C"
        ],
        [
         "35",
         "GO:0003779",
         "IPR029006",
         "PF00241",
         "YLL050C"
        ],
        [
         "36",
         "GO:0051015",
         "IPR029006",
         "PF00241",
         "YLL050C"
        ],
        [
         "37",
         "GO:0030479",
         "IPR029006",
         "PF00241",
         "YLL050C"
        ],
        [
         "38",
         "GO:0005737",
         "IPR029006",
         "PF00241",
         "YLL050C"
        ],
        [
         "39",
         "GO:0007015",
         "IPR029006",
         "PF00241",
         "YLL050C"
        ],
        [
         "40",
         "GO:0030042",
         "IPR029006",
         "PF00241",
         "YLL050C"
        ],
        [
         "41",
         "GO:0006897",
         "IPR029006",
         "PF00241",
         "YLL050C"
        ],
        [
         "42",
         "GO:0005886",
         "IPR029006",
         "PF00241",
         "YLL050C"
        ],
        [
         "43",
         "GO:0051014",
         "IPR029006",
         "PF00241",
         "YLL050C"
        ],
        [
         "44",
         "GO:0043001",
         "IPR029006",
         "PF00241",
         "YLL050C"
        ],
        [
         "45",
         "GO:0016363",
         "IPR029006",
         "PF00241",
         "YLL050C"
        ],
        [
         "46",
         "GO:0005515",
         "IPR029006",
         "PF00241",
         "YLL050C"
        ],
        [
         "47",
         "GO:0005634",
         "IPR029006",
         "PF00241",
         "YLL050C"
        ],
        [
         "48",
         "GO:0005856",
         "IPR029006",
         "PF00241",
         "YLL050C"
        ],
        [
         "49",
         "GO:0000981",
         "IPR022210",
         "PF12550",
         "YMR172W"
        ]
       ],
       "shape": {
        "columns": 4,
        "rows": 692831
       }
      },
      "text/html": [
       "<div>\n",
       "<style scoped>\n",
       "    .dataframe tbody tr th:only-of-type {\n",
       "        vertical-align: middle;\n",
       "    }\n",
       "\n",
       "    .dataframe tbody tr th {\n",
       "        vertical-align: top;\n",
       "    }\n",
       "\n",
       "    .dataframe thead th {\n",
       "        text-align: right;\n",
       "    }\n",
       "</style>\n",
       "<table border=\"1\" class=\"dataframe\">\n",
       "  <thead>\n",
       "    <tr style=\"text-align: right;\">\n",
       "      <th></th>\n",
       "      <th>go_id</th>\n",
       "      <th>interpro</th>\n",
       "      <th>pfam</th>\n",
       "      <th>gene</th>\n",
       "    </tr>\n",
       "  </thead>\n",
       "  <tbody>\n",
       "    <tr>\n",
       "      <th>0</th>\n",
       "      <td>GO:0005737</td>\n",
       "      <td>NaN</td>\n",
       "      <td>NaN</td>\n",
       "      <td>YPL071C</td>\n",
       "    </tr>\n",
       "    <tr>\n",
       "      <th>1</th>\n",
       "      <td>GO:0003674</td>\n",
       "      <td>NaN</td>\n",
       "      <td>NaN</td>\n",
       "      <td>YPL071C</td>\n",
       "    </tr>\n",
       "    <tr>\n",
       "      <th>2</th>\n",
       "      <td>GO:0008150</td>\n",
       "      <td>NaN</td>\n",
       "      <td>NaN</td>\n",
       "      <td>YPL071C</td>\n",
       "    </tr>\n",
       "    <tr>\n",
       "      <th>3</th>\n",
       "      <td>GO:0005634</td>\n",
       "      <td>NaN</td>\n",
       "      <td>NaN</td>\n",
       "      <td>YPL071C</td>\n",
       "    </tr>\n",
       "    <tr>\n",
       "      <th>4</th>\n",
       "      <td>GO:0015629</td>\n",
       "      <td>IPR002108</td>\n",
       "      <td>PF00241</td>\n",
       "      <td>YLL050C</td>\n",
       "    </tr>\n",
       "    <tr>\n",
       "      <th>...</th>\n",
       "      <td>...</td>\n",
       "      <td>...</td>\n",
       "      <td>...</td>\n",
       "      <td>...</td>\n",
       "    </tr>\n",
       "    <tr>\n",
       "      <th>692826</th>\n",
       "      <td>GO:0016021</td>\n",
       "      <td>IPR036249</td>\n",
       "      <td>PF02630</td>\n",
       "      <td>YBR024W</td>\n",
       "    </tr>\n",
       "    <tr>\n",
       "      <th>692827</th>\n",
       "      <td>GO:0031966</td>\n",
       "      <td>IPR036249</td>\n",
       "      <td>PF02630</td>\n",
       "      <td>YBR024W</td>\n",
       "    </tr>\n",
       "    <tr>\n",
       "      <th>692828</th>\n",
       "      <td>GO:0033617</td>\n",
       "      <td>IPR036249</td>\n",
       "      <td>PF02630</td>\n",
       "      <td>YBR024W</td>\n",
       "    </tr>\n",
       "    <tr>\n",
       "      <th>692829</th>\n",
       "      <td>GO:0006878</td>\n",
       "      <td>IPR036249</td>\n",
       "      <td>PF02630</td>\n",
       "      <td>YBR024W</td>\n",
       "    </tr>\n",
       "    <tr>\n",
       "      <th>692830</th>\n",
       "      <td>GO:0046872</td>\n",
       "      <td>IPR036249</td>\n",
       "      <td>PF02630</td>\n",
       "      <td>YBR024W</td>\n",
       "    </tr>\n",
       "  </tbody>\n",
       "</table>\n",
       "<p>692831 rows × 4 columns</p>\n",
       "</div>"
      ],
      "text/plain": [
       "             go_id   interpro     pfam     gene\n",
       "0       GO:0005737        NaN      NaN  YPL071C\n",
       "1       GO:0003674        NaN      NaN  YPL071C\n",
       "2       GO:0008150        NaN      NaN  YPL071C\n",
       "3       GO:0005634        NaN      NaN  YPL071C\n",
       "4       GO:0015629  IPR002108  PF00241  YLL050C\n",
       "...            ...        ...      ...      ...\n",
       "692826  GO:0016021  IPR036249  PF02630  YBR024W\n",
       "692827  GO:0031966  IPR036249  PF02630  YBR024W\n",
       "692828  GO:0033617  IPR036249  PF02630  YBR024W\n",
       "692829  GO:0006878  IPR036249  PF02630  YBR024W\n",
       "692830  GO:0046872  IPR036249  PF02630  YBR024W\n",
       "\n",
       "[692831 rows x 4 columns]"
      ]
     },
     "execution_count": 12,
     "metadata": {},
     "output_type": "execute_result"
    }
   ],
   "source": [
    "# this will take a while\n",
    "functionals = query_paralogs(\n",
    "    genes, attrs=[\"go_id\", \"interpro\", \"pfam\", \"ensembl_gene_id\"]\n",
    ")\n",
    "functionals"
   ]
  },
  {
   "cell_type": "code",
   "execution_count": 6,
   "id": "11f504f6",
   "metadata": {},
   "outputs": [
    {
     "data": {
      "text/plain": [
       "<Axes: title={'center': 'Paralog Orthology Types'}, xlabel='Orthology Type', ylabel='Count'>"
      ]
     },
     "execution_count": 6,
     "metadata": {},
     "output_type": "execute_result"
    },
    {
     "data": {
      "image/png": "[encoded data removed]",
      "text/plain": [
       "<Figure size 1000x600 with 1 Axes>"
      ]
     },
     "metadata": {},
     "output_type": "display_data"
    }
   ],
   "source": [
    "paralogs[\"orthology_type\"].value_counts().plot.bar(\n",
    "    title=\"Paralog Orthology Types\",\n",
    "    xlabel=\"Orthology Type\",\n",
    "    ylabel=\"Count\",\n",
    "    figsize=(10, 6),\n",
    "    color=\"skyblue\",\n",
    "    edgecolor=\"black\",\n",
    "    rot=45,\n",
    "    fontsize=12,\n",
    "    legend=False,\n",
    ")"
   ]
  },
  {
   "cell_type": "code",
   "execution_count": 7,
   "id": "09a57d4d",
   "metadata": {},
   "outputs": [
    {
     "data": {
      "text/plain": [
       "<Axes: title={'center': 'Distribution of Percent Identity'}, xlabel='Percent Identity', ylabel='Frequency'>"
      ]
     },
     "execution_count": 7,
     "metadata": {},
     "output_type": "execute_result"
    },
    {
     "data": {
      "image/png": "[encoded data removed]",
      "text/plain": [
       "<Figure size 1000x600 with 1 Axes>"
      ]
     },
     "metadata": {},
     "output_type": "display_data"
    }
   ],
   "source": [
    "paralogs[\"percent_identity\"].plot.hist(\n",
    "    title=\"Distribution of Percent Identity\",\n",
    "    xlabel=\"Percent Identity\",\n",
    "    ylabel=\"Frequency\",\n",
    "    bins=30,\n",
    "    color=\"lightgreen\",\n",
    "    edgecolor=\"black\",\n",
    "    figsize=(10, 6),\n",
    "    fontsize=12,\n",
    "    legend=False,\n",
    ")"
   ]
  }
 ],
 "metadata": {
  "kernelspec": {
   "display_name": ".venv",
   "language": "python",
   "name": "python3"
  },
  "language_info": {
   "codemirror_mode": {
    "name": "ipython",
    "version": 3
   },
   "file_extension": ".py",
   "mimetype": "text/x-python",
   "name": "python",
   "nbconvert_exporter": "python",
   "pygments_lexer": "ipython3",
   "version": "3.12.3"
  }
 },
 "nbformat": 4,
 "nbformat_minor": 5
}
