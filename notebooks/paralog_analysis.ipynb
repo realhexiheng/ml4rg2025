{
 "cells": [
  {
   "cell_type": "code",
   "execution_count": 1,
   "id": "90c107cd",
   "metadata": {},
   "outputs": [],
   "source": [
    "from pathlib import Path\n",
    "\n",
    "import matplotlib.pyplot as plt\n",
    "import numpy as np\n",
    "import pandas as pd\n",
    "import seaborn as sns\n",
    "from src.data.preprocess import create_paralog_clusters, query_paralogs\n",
    "from src.utils.io import HDFReader\n"
   ]
  },
  {
   "cell_type": "markdown",
   "id": "b6171259",
   "metadata": {},
   "source": [
    "### Preprocess paralogs"
   ]
  },
  {
   "cell_type": "code",
   "execution_count": 2,
   "id": "6a0b0038",
   "metadata": {},
   "outputs": [
    {
     "data": {
      "application/vnd.microsoft.datawrangler.viewer.v0+json": {
       "columns": [
        {
         "name": "index",
         "rawType": "int64",
         "type": "integer"
        },
        {
         "name": "gene",
         "rawType": "object",
         "type": "string"
        },
        {
         "name": "chromosome",
         "rawType": "object",
         "type": "string"
        },
        {
         "name": "strand",
         "rawType": "object",
         "type": "string"
        }
       ],
       "ref": "b189783f-0fa0-4666-a6cc-1b8f7346659b",
       "rows": [
        [
         "0",
         "YAL001C",
         "chrI",
         "-"
        ],
        [
         "1",
         "YAL002W",
         "chrI",
         "+"
        ],
        [
         "2",
         "YAL003W",
         "chrI",
         "+"
        ],
        [
         "3",
         "YAL004W",
         "chrI",
         "+"
        ],
        [
         "4",
         "YAL005C",
         "chrI",
         "-"
        ],
        [
         "5",
         "YAL007C",
         "chrI",
         "-"
        ],
        [
         "6",
         "YAL008W",
         "chrI",
         "+"
        ],
        [
         "7",
         "YAL009W",
         "chrI",
         "+"
        ],
        [
         "8",
         "YAL010C",
         "chrI",
         "-"
        ],
        [
         "9",
         "YAL011W",
         "chrI",
         "+"
        ],
        [
         "10",
         "YAL012W",
         "chrI",
         "+"
        ],
        [
         "11",
         "YAL013W",
         "chrI",
         "+"
        ],
        [
         "12",
         "YAL014C",
         "chrI",
         "-"
        ],
        [
         "13",
         "YAL015C",
         "chrI",
         "-"
        ],
        [
         "14",
         "YAL016C-A",
         "chrI",
         "-"
        ],
        [
         "15",
         "YAL016C-B",
         "chrI",
         "-"
        ],
        [
         "16",
         "YAL016W",
         "chrI",
         "+"
        ],
        [
         "17",
         "YAL017W",
         "chrI",
         "+"
        ],
        [
         "18",
         "YAL018C",
         "chrI",
         "-"
        ],
        [
         "19",
         "YAL019W",
         "chrI",
         "+"
        ],
        [
         "20",
         "YAL019W-A",
         "chrI",
         "+"
        ],
        [
         "21",
         "YAL020C",
         "chrI",
         "-"
        ],
        [
         "22",
         "YAL021C",
         "chrI",
         "-"
        ],
        [
         "23",
         "YAL022C",
         "chrI",
         "-"
        ],
        [
         "24",
         "YAL023C",
         "chrI",
         "-"
        ],
        [
         "25",
         "YAL024C",
         "chrI",
         "-"
        ],
        [
         "26",
         "YAL025C",
         "chrI",
         "-"
        ],
        [
         "27",
         "YAL026C",
         "chrI",
         "-"
        ],
        [
         "28",
         "YAL026C-A",
         "chrI",
         "-"
        ],
        [
         "29",
         "YAL027W",
         "chrI",
         "+"
        ],
        [
         "30",
         "YAL028W",
         "chrI",
         "+"
        ],
        [
         "31",
         "YAL029C",
         "chrI",
         "-"
        ],
        [
         "32",
         "YAL030W",
         "chrI",
         "+"
        ],
        [
         "33",
         "YAL031C",
         "chrI",
         "-"
        ],
        [
         "34",
         "YAL031W-A",
         "chrI",
         "+"
        ],
        [
         "35",
         "YAL032C",
         "chrI",
         "-"
        ],
        [
         "36",
         "YAL033W",
         "chrI",
         "+"
        ],
        [
         "37",
         "YAL034C",
         "chrI",
         "-"
        ],
        [
         "38",
         "YAL034C-B",
         "chrI",
         "-"
        ],
        [
         "39",
         "YAL034W-A",
         "chrI",
         "+"
        ],
        [
         "40",
         "YAL035W",
         "chrI",
         "+"
        ],
        [
         "41",
         "YAL036C",
         "chrI",
         "-"
        ],
        [
         "42",
         "YAL037C-A",
         "chrI",
         "-"
        ],
        [
         "43",
         "YAL037C-B",
         "chrI",
         "-"
        ],
        [
         "44",
         "YAL037W",
         "chrI",
         "+"
        ],
        [
         "45",
         "YAL038W",
         "chrI",
         "+"
        ],
        [
         "46",
         "YAL039C",
         "chrI",
         "-"
        ],
        [
         "47",
         "YAL040C",
         "chrI",
         "-"
        ],
        [
         "48",
         "YAL041W",
         "chrI",
         "+"
        ],
        [
         "49",
         "YAL042C-A",
         "chrI",
         "-"
        ]
       ],
       "shape": {
        "columns": 3,
        "rows": 6705
       }
      },
      "text/html": [
       "<div>\n",
       "<style scoped>\n",
       "    .dataframe tbody tr th:only-of-type {\n",
       "        vertical-align: middle;\n",
       "    }\n",
       "\n",
       "    .dataframe tbody tr th {\n",
       "        vertical-align: top;\n",
       "    }\n",
       "\n",
       "    .dataframe thead th {\n",
       "        text-align: right;\n",
       "    }\n",
       "</style>\n",
       "<table border=\"1\" class=\"dataframe\">\n",
       "  <thead>\n",
       "    <tr style=\"text-align: right;\">\n",
       "      <th></th>\n",
       "      <th>gene</th>\n",
       "      <th>chromosome</th>\n",
       "      <th>strand</th>\n",
       "    </tr>\n",
       "  </thead>\n",
       "  <tbody>\n",
       "    <tr>\n",
       "      <th>0</th>\n",
       "      <td>YAL001C</td>\n",
       "      <td>chrI</td>\n",
       "      <td>-</td>\n",
       "    </tr>\n",
       "    <tr>\n",
       "      <th>1</th>\n",
       "      <td>YAL002W</td>\n",
       "      <td>chrI</td>\n",
       "      <td>+</td>\n",
       "    </tr>\n",
       "    <tr>\n",
       "      <th>2</th>\n",
       "      <td>YAL003W</td>\n",
       "      <td>chrI</td>\n",
       "      <td>+</td>\n",
       "    </tr>\n",
       "    <tr>\n",
       "      <th>3</th>\n",
       "      <td>YAL004W</td>\n",
       "      <td>chrI</td>\n",
       "      <td>+</td>\n",
       "    </tr>\n",
       "    <tr>\n",
       "      <th>4</th>\n",
       "      <td>YAL005C</td>\n",
       "      <td>chrI</td>\n",
       "      <td>-</td>\n",
       "    </tr>\n",
       "    <tr>\n",
       "      <th>...</th>\n",
       "      <td>...</td>\n",
       "      <td>...</td>\n",
       "      <td>...</td>\n",
       "    </tr>\n",
       "    <tr>\n",
       "      <th>6700</th>\n",
       "      <td>Q0182</td>\n",
       "      <td>chrM</td>\n",
       "      <td>+</td>\n",
       "    </tr>\n",
       "    <tr>\n",
       "      <th>6701</th>\n",
       "      <td>Q0250</td>\n",
       "      <td>chrM</td>\n",
       "      <td>+</td>\n",
       "    </tr>\n",
       "    <tr>\n",
       "      <th>6702</th>\n",
       "      <td>Q0255</td>\n",
       "      <td>chrM</td>\n",
       "      <td>+</td>\n",
       "    </tr>\n",
       "    <tr>\n",
       "      <th>6703</th>\n",
       "      <td>Q0275</td>\n",
       "      <td>chrM</td>\n",
       "      <td>+</td>\n",
       "    </tr>\n",
       "    <tr>\n",
       "      <th>6704</th>\n",
       "      <td>Q0297</td>\n",
       "      <td>chrM</td>\n",
       "      <td>+</td>\n",
       "    </tr>\n",
       "  </tbody>\n",
       "</table>\n",
       "<p>6705 rows × 3 columns</p>\n",
       "</div>"
      ],
      "text/plain": [
       "         gene chromosome strand\n",
       "0     YAL001C       chrI      -\n",
       "1     YAL002W       chrI      +\n",
       "2     YAL003W       chrI      +\n",
       "3     YAL004W       chrI      +\n",
       "4     YAL005C       chrI      -\n",
       "...       ...        ...    ...\n",
       "6700    Q0182       chrM      +\n",
       "6701    Q0250       chrM      +\n",
       "6702    Q0255       chrM      +\n",
       "6703    Q0275       chrM      +\n",
       "6704    Q0297       chrM      +\n",
       "\n",
       "[6705 rows x 3 columns]"
      ]
     },
     "execution_count": 2,
     "metadata": {},
     "output_type": "execute_result"
    }
   ],
   "source": [
    "summary = pd.read_csv(\n",
    "    Path(\"../data/summary.csv\"), usecols=[\"gene\", \"chromosome\", \"strand\"]\n",
    ")\n",
    "summary"
   ]
  },
  {
   "cell_type": "code",
   "execution_count": 3,
   "id": "8a7c2f49",
   "metadata": {},
   "outputs": [
    {
     "name": "stdout",
     "output_type": "stream",
     "text": [
      "Querying BioMart for paralogs of 6705 genes...\n"
     ]
    }
   ],
   "source": [
    "genes = summary[\"gene\"].tolist()\n",
    "paralogs = query_paralogs(genes)\n",
    "paralog_mapping = create_paralog_clusters(genes, paralogs)\n",
    "summary[\"paralog_group\"] = summary[\"gene\"].map(paralog_mapping)"
   ]
  },
  {
   "cell_type": "code",
   "execution_count": 4,
   "id": "b0201528",
   "metadata": {},
   "outputs": [
    {
     "data": {
      "application/vnd.microsoft.datawrangler.viewer.v0+json": {
       "columns": [
        {
         "name": "index",
         "rawType": "int64",
         "type": "integer"
        },
        {
         "name": "gene",
         "rawType": "object",
         "type": "string"
        },
        {
         "name": "chromosome",
         "rawType": "object",
         "type": "string"
        },
        {
         "name": "strand",
         "rawType": "object",
         "type": "string"
        },
        {
         "name": "paralog_group",
         "rawType": "object",
         "type": "string"
        }
       ],
       "ref": "3095997f-738a-449f-a6bf-681c169116ae",
       "rows": [
        [
         "0",
         "YAL001C",
         "chrI",
         "-",
         "YAL001C"
        ],
        [
         "1",
         "YAL002W",
         "chrI",
         "+",
         "YAL002W"
        ],
        [
         "2",
         "YAL003W",
         "chrI",
         "+",
         "YAL003W"
        ],
        [
         "3",
         "YAL004W",
         "chrI",
         "+",
         "YAL004W"
        ],
        [
         "4",
         "YAL005C",
         "chrI",
         "-",
         "YKL073W"
        ],
        [
         "5",
         "YAL007C",
         "chrI",
         "-",
         "YAL007C"
        ],
        [
         "6",
         "YAL008W",
         "chrI",
         "+",
         "YAL008W"
        ],
        [
         "7",
         "YAL009W",
         "chrI",
         "+",
         "YAL009W"
        ],
        [
         "8",
         "YAL010C",
         "chrI",
         "-",
         "YAL010C"
        ],
        [
         "9",
         "YAL011W",
         "chrI",
         "+",
         "YAL011W"
        ],
        [
         "10",
         "YAL012W",
         "chrI",
         "+",
         "YLL058W"
        ],
        [
         "11",
         "YAL013W",
         "chrI",
         "+",
         "YAL013W"
        ],
        [
         "12",
         "YAL014C",
         "chrI",
         "-",
         "YAL014C"
        ],
        [
         "13",
         "YAL015C",
         "chrI",
         "-",
         "YAL015C"
        ],
        [
         "14",
         "YAL016C-A",
         "chrI",
         "-",
         "YAL016C-A"
        ],
        [
         "15",
         "YAL016C-B",
         "chrI",
         "-",
         "YAL016C-B"
        ],
        [
         "16",
         "YAL016W",
         "chrI",
         "+",
         "YAL016W"
        ],
        [
         "17",
         "YAL017W",
         "chrI",
         "+",
         "YOL045W"
        ],
        [
         "18",
         "YAL018C",
         "chrI",
         "-",
         "YAL018C"
        ],
        [
         "19",
         "YAL019W",
         "chrI",
         "+",
         "YPL082C"
        ],
        [
         "20",
         "YAL019W-A",
         "chrI",
         "+",
         "YAL019W-A"
        ],
        [
         "21",
         "YAL020C",
         "chrI",
         "-",
         "YAL020C"
        ],
        [
         "22",
         "YAL021C",
         "chrI",
         "-",
         "YML118W"
        ],
        [
         "23",
         "YAL022C",
         "chrI",
         "-",
         "YAL022C"
        ],
        [
         "24",
         "YAL023C",
         "chrI",
         "-",
         "YDL095W"
        ],
        [
         "25",
         "YAL024C",
         "chrI",
         "-",
         "YAL024C"
        ],
        [
         "26",
         "YAL025C",
         "chrI",
         "-",
         "YAL025C"
        ],
        [
         "27",
         "YAL026C",
         "chrI",
         "-",
         "YIL048W"
        ],
        [
         "28",
         "YAL026C-A",
         "chrI",
         "-",
         "YAL026C-A"
        ],
        [
         "29",
         "YAL027W",
         "chrI",
         "+",
         "YAL027W"
        ],
        [
         "30",
         "YAL028W",
         "chrI",
         "+",
         "YAL028W"
        ],
        [
         "31",
         "YAL029C",
         "chrI",
         "-",
         "YMR109W"
        ],
        [
         "32",
         "YAL030W",
         "chrI",
         "+",
         "YKL196C"
        ],
        [
         "33",
         "YAL031C",
         "chrI",
         "-",
         "YAL031C"
        ],
        [
         "34",
         "YAL031W-A",
         "chrI",
         "+",
         "YAL031W-A"
        ],
        [
         "35",
         "YAL032C",
         "chrI",
         "-",
         "YAL032C"
        ],
        [
         "36",
         "YAL033W",
         "chrI",
         "+",
         "YAL033W"
        ],
        [
         "37",
         "YAL034C",
         "chrI",
         "-",
         "YAL034C"
        ],
        [
         "38",
         "YAL034C-B",
         "chrI",
         "-",
         "YAL034C-B"
        ],
        [
         "39",
         "YAL034W-A",
         "chrI",
         "+",
         "YAL034W-A"
        ],
        [
         "40",
         "YAL035W",
         "chrI",
         "+",
         "YAL035W"
        ],
        [
         "41",
         "YAL036C",
         "chrI",
         "-",
         "YPL093W"
        ],
        [
         "42",
         "YAL037C-A",
         "chrI",
         "-",
         "YAL037C-A"
        ],
        [
         "43",
         "YAL037C-B",
         "chrI",
         "-",
         "YAL037C-B"
        ],
        [
         "44",
         "YAL037W",
         "chrI",
         "+",
         "YOR342C"
        ],
        [
         "45",
         "YAL038W",
         "chrI",
         "+",
         "YOR347C"
        ],
        [
         "46",
         "YAL039C",
         "chrI",
         "-",
         "YAL039C"
        ],
        [
         "47",
         "YAL040C",
         "chrI",
         "-",
         "YAL040C"
        ],
        [
         "48",
         "YAL041W",
         "chrI",
         "+",
         "YAL041W"
        ],
        [
         "49",
         "YAL042C-A",
         "chrI",
         "-",
         "YAL042C-A"
        ]
       ],
       "shape": {
        "columns": 4,
        "rows": 6705
       }
      },
      "text/html": [
       "<div>\n",
       "<style scoped>\n",
       "    .dataframe tbody tr th:only-of-type {\n",
       "        vertical-align: middle;\n",
       "    }\n",
       "\n",
       "    .dataframe tbody tr th {\n",
       "        vertical-align: top;\n",
       "    }\n",
       "\n",
       "    .dataframe thead th {\n",
       "        text-align: right;\n",
       "    }\n",
       "</style>\n",
       "<table border=\"1\" class=\"dataframe\">\n",
       "  <thead>\n",
       "    <tr style=\"text-align: right;\">\n",
       "      <th></th>\n",
       "      <th>gene</th>\n",
       "      <th>chromosome</th>\n",
       "      <th>strand</th>\n",
       "      <th>paralog_group</th>\n",
       "    </tr>\n",
       "  </thead>\n",
       "  <tbody>\n",
       "    <tr>\n",
       "      <th>0</th>\n",
       "      <td>YAL001C</td>\n",
       "      <td>chrI</td>\n",
       "      <td>-</td>\n",
       "      <td>YAL001C</td>\n",
       "    </tr>\n",
       "    <tr>\n",
       "      <th>1</th>\n",
       "      <td>YAL002W</td>\n",
       "      <td>chrI</td>\n",
       "      <td>+</td>\n",
       "      <td>YAL002W</td>\n",
       "    </tr>\n",
       "    <tr>\n",
       "      <th>2</th>\n",
       "      <td>YAL003W</td>\n",
       "      <td>chrI</td>\n",
       "      <td>+</td>\n",
       "      <td>YAL003W</td>\n",
       "    </tr>\n",
       "    <tr>\n",
       "      <th>3</th>\n",
       "      <td>YAL004W</td>\n",
       "      <td>chrI</td>\n",
       "      <td>+</td>\n",
       "      <td>YAL004W</td>\n",
       "    </tr>\n",
       "    <tr>\n",
       "      <th>4</th>\n",
       "      <td>YAL005C</td>\n",
       "      <td>chrI</td>\n",
       "      <td>-</td>\n",
       "      <td>YKL073W</td>\n",
       "    </tr>\n",
       "    <tr>\n",
       "      <th>...</th>\n",
       "      <td>...</td>\n",
       "      <td>...</td>\n",
       "      <td>...</td>\n",
       "      <td>...</td>\n",
       "    </tr>\n",
       "    <tr>\n",
       "      <th>6700</th>\n",
       "      <td>Q0182</td>\n",
       "      <td>chrM</td>\n",
       "      <td>+</td>\n",
       "      <td>Q0182</td>\n",
       "    </tr>\n",
       "    <tr>\n",
       "      <th>6701</th>\n",
       "      <td>Q0250</td>\n",
       "      <td>chrM</td>\n",
       "      <td>+</td>\n",
       "      <td>Q0250</td>\n",
       "    </tr>\n",
       "    <tr>\n",
       "      <th>6702</th>\n",
       "      <td>Q0255</td>\n",
       "      <td>chrM</td>\n",
       "      <td>+</td>\n",
       "      <td>Q0255</td>\n",
       "    </tr>\n",
       "    <tr>\n",
       "      <th>6703</th>\n",
       "      <td>Q0275</td>\n",
       "      <td>chrM</td>\n",
       "      <td>+</td>\n",
       "      <td>Q0275</td>\n",
       "    </tr>\n",
       "    <tr>\n",
       "      <th>6704</th>\n",
       "      <td>Q0297</td>\n",
       "      <td>chrM</td>\n",
       "      <td>+</td>\n",
       "      <td>Q0297</td>\n",
       "    </tr>\n",
       "  </tbody>\n",
       "</table>\n",
       "<p>6705 rows × 4 columns</p>\n",
       "</div>"
      ],
      "text/plain": [
       "         gene chromosome strand paralog_group\n",
       "0     YAL001C       chrI      -       YAL001C\n",
       "1     YAL002W       chrI      +       YAL002W\n",
       "2     YAL003W       chrI      +       YAL003W\n",
       "3     YAL004W       chrI      +       YAL004W\n",
       "4     YAL005C       chrI      -       YKL073W\n",
       "...       ...        ...    ...           ...\n",
       "6700    Q0182       chrM      +         Q0182\n",
       "6701    Q0250       chrM      +         Q0250\n",
       "6702    Q0255       chrM      +         Q0255\n",
       "6703    Q0275       chrM      +         Q0275\n",
       "6704    Q0297       chrM      +         Q0297\n",
       "\n",
       "[6705 rows x 4 columns]"
      ]
     },
     "execution_count": 4,
     "metadata": {},
     "output_type": "execute_result"
    }
   ],
   "source": [
    "summary"
   ]
  },
  {
   "cell_type": "markdown",
   "id": "d593de70",
   "metadata": {},
   "source": [
    "### How many genes have paralogs other than themselves?"
   ]
  },
  {
   "cell_type": "code",
   "execution_count": 5,
   "id": "3785f10f",
   "metadata": {},
   "outputs": [
    {
     "data": {
      "application/vnd.microsoft.datawrangler.viewer.v0+json": {
       "columns": [
        {
         "name": "index",
         "rawType": "int64",
         "type": "integer"
        },
        {
         "name": "gene",
         "rawType": "object",
         "type": "string"
        },
        {
         "name": "chromosome",
         "rawType": "object",
         "type": "string"
        },
        {
         "name": "strand",
         "rawType": "object",
         "type": "string"
        },
        {
         "name": "paralog_group",
         "rawType": "object",
         "type": "string"
        }
       ],
       "ref": "ff5032d8-f229-4893-8bda-9cde3ac673ec",
       "rows": [
        [
         "1",
         "YAL002W",
         "chrI",
         "+",
         "YAL002W"
        ],
        [
         "4",
         "YAL005C",
         "chrI",
         "-",
         "YKL073W"
        ],
        [
         "5",
         "YAL007C",
         "chrI",
         "-",
         "YAL007C"
        ],
        [
         "10",
         "YAL012W",
         "chrI",
         "+",
         "YLL058W"
        ],
        [
         "13",
         "YAL015C",
         "chrI",
         "-",
         "YAL015C"
        ],
        [
         "17",
         "YAL017W",
         "chrI",
         "+",
         "YOL045W"
        ],
        [
         "19",
         "YAL019W",
         "chrI",
         "+",
         "YPL082C"
        ],
        [
         "22",
         "YAL021C",
         "chrI",
         "-",
         "YML118W"
        ],
        [
         "24",
         "YAL023C",
         "chrI",
         "-",
         "YDL095W"
        ],
        [
         "27",
         "YAL026C",
         "chrI",
         "-",
         "YIL048W"
        ],
        [
         "30",
         "YAL028W",
         "chrI",
         "+",
         "YAL028W"
        ],
        [
         "31",
         "YAL029C",
         "chrI",
         "-",
         "YMR109W"
        ],
        [
         "32",
         "YAL030W",
         "chrI",
         "+",
         "YKL196C"
        ],
        [
         "36",
         "YAL033W",
         "chrI",
         "+",
         "YAL033W"
        ],
        [
         "37",
         "YAL034C",
         "chrI",
         "-",
         "YAL034C"
        ],
        [
         "40",
         "YAL035W",
         "chrI",
         "+",
         "YAL035W"
        ],
        [
         "41",
         "YAL036C",
         "chrI",
         "-",
         "YPL093W"
        ],
        [
         "44",
         "YAL037W",
         "chrI",
         "+",
         "YOR342C"
        ],
        [
         "45",
         "YAL038W",
         "chrI",
         "+",
         "YOR347C"
        ],
        [
         "46",
         "YAL039C",
         "chrI",
         "-",
         "YAL039C"
        ],
        [
         "50",
         "YAL042W",
         "chrI",
         "+",
         "YML067C"
        ],
        [
         "53",
         "YAL044W-A",
         "chrI",
         "+",
         "YAL044W-A"
        ],
        [
         "55",
         "YAL046C",
         "chrI",
         "-",
         "YAL044W-A"
        ],
        [
         "58",
         "YAL048C",
         "chrI",
         "-",
         "YLR229C"
        ],
        [
         "60",
         "YAL051W",
         "chrI",
         "+",
         "YAL051W"
        ],
        [
         "61",
         "YAL053W",
         "chrI",
         "+",
         "YPL221W"
        ],
        [
         "62",
         "YAL054C",
         "chrI",
         "-",
         "YAL054C"
        ],
        [
         "65",
         "YAL056W",
         "chrI",
         "+",
         "YOR371C"
        ],
        [
         "69",
         "YAL060W",
         "chrI",
         "+",
         "YLR070C"
        ],
        [
         "70",
         "YAL061W",
         "chrI",
         "+",
         "YLR070C"
        ],
        [
         "71",
         "YAL062W",
         "chrI",
         "+",
         "YDL215C"
        ],
        [
         "72",
         "YAL063C",
         "chrI",
         "-",
         "YAR050W"
        ],
        [
         "74",
         "YAL064C-A",
         "chrI",
         "-",
         "YAL064C-A"
        ],
        [
         "80",
         "YAL067W-A",
         "chrI",
         "+",
         "YMR324C"
        ],
        [
         "81",
         "YAL068C",
         "chrI",
         "-",
         "YIL011W"
        ],
        [
         "82",
         "YAL068W-A",
         "chrI",
         "+",
         "YER188C-A"
        ],
        [
         "83",
         "YAR002C-A",
         "chrI",
         "-",
         "YAL007C"
        ],
        [
         "85",
         "YAR003W",
         "chrI",
         "+",
         "YAL002W"
        ],
        [
         "90",
         "YAR014C",
         "chrI",
         "-",
         "YAR014C"
        ],
        [
         "93",
         "YAR019C",
         "chrI",
         "-",
         "YJL095W"
        ],
        [
         "95",
         "YAR020C",
         "chrI",
         "-",
         "YIL011W"
        ],
        [
         "96",
         "YAR023C",
         "chrI",
         "-",
         "YHL044W"
        ],
        [
         "97",
         "YAR027W",
         "chrI",
         "+",
         "YHL044W"
        ],
        [
         "98",
         "YAR028W",
         "chrI",
         "+",
         "YHL044W"
        ],
        [
         "99",
         "YAR029W",
         "chrI",
         "+",
         "YHL044W"
        ],
        [
         "101",
         "YAR031W",
         "chrI",
         "+",
         "YHL044W"
        ],
        [
         "102",
         "YAR033W",
         "chrI",
         "+",
         "YHL044W"
        ],
        [
         "104",
         "YAR035W",
         "chrI",
         "+",
         "YER024W"
        ],
        [
         "105",
         "YAR042W",
         "chrI",
         "+",
         "YAR042W"
        ],
        [
         "107",
         "YAR050W",
         "chrI",
         "+",
         "YAR050W"
        ]
       ],
       "shape": {
        "columns": 4,
        "rows": 2587
       }
      },
      "text/html": [
       "<div>\n",
       "<style scoped>\n",
       "    .dataframe tbody tr th:only-of-type {\n",
       "        vertical-align: middle;\n",
       "    }\n",
       "\n",
       "    .dataframe tbody tr th {\n",
       "        vertical-align: top;\n",
       "    }\n",
       "\n",
       "    .dataframe thead th {\n",
       "        text-align: right;\n",
       "    }\n",
       "</style>\n",
       "<table border=\"1\" class=\"dataframe\">\n",
       "  <thead>\n",
       "    <tr style=\"text-align: right;\">\n",
       "      <th></th>\n",
       "      <th>gene</th>\n",
       "      <th>chromosome</th>\n",
       "      <th>strand</th>\n",
       "      <th>paralog_group</th>\n",
       "    </tr>\n",
       "  </thead>\n",
       "  <tbody>\n",
       "    <tr>\n",
       "      <th>1</th>\n",
       "      <td>YAL002W</td>\n",
       "      <td>chrI</td>\n",
       "      <td>+</td>\n",
       "      <td>YAL002W</td>\n",
       "    </tr>\n",
       "    <tr>\n",
       "      <th>4</th>\n",
       "      <td>YAL005C</td>\n",
       "      <td>chrI</td>\n",
       "      <td>-</td>\n",
       "      <td>YKL073W</td>\n",
       "    </tr>\n",
       "    <tr>\n",
       "      <th>5</th>\n",
       "      <td>YAL007C</td>\n",
       "      <td>chrI</td>\n",
       "      <td>-</td>\n",
       "      <td>YAL007C</td>\n",
       "    </tr>\n",
       "    <tr>\n",
       "      <th>10</th>\n",
       "      <td>YAL012W</td>\n",
       "      <td>chrI</td>\n",
       "      <td>+</td>\n",
       "      <td>YLL058W</td>\n",
       "    </tr>\n",
       "    <tr>\n",
       "      <th>13</th>\n",
       "      <td>YAL015C</td>\n",
       "      <td>chrI</td>\n",
       "      <td>-</td>\n",
       "      <td>YAL015C</td>\n",
       "    </tr>\n",
       "    <tr>\n",
       "      <th>...</th>\n",
       "      <td>...</td>\n",
       "      <td>...</td>\n",
       "      <td>...</td>\n",
       "      <td>...</td>\n",
       "    </tr>\n",
       "    <tr>\n",
       "      <th>6685</th>\n",
       "      <td>Q0070</td>\n",
       "      <td>chrM</td>\n",
       "      <td>+</td>\n",
       "      <td>Q0070</td>\n",
       "    </tr>\n",
       "    <tr>\n",
       "      <th>6690</th>\n",
       "      <td>Q0105</td>\n",
       "      <td>chrM</td>\n",
       "      <td>+</td>\n",
       "      <td>Q0110</td>\n",
       "    </tr>\n",
       "    <tr>\n",
       "      <th>6691</th>\n",
       "      <td>Q0110</td>\n",
       "      <td>chrM</td>\n",
       "      <td>+</td>\n",
       "      <td>Q0110</td>\n",
       "    </tr>\n",
       "    <tr>\n",
       "      <th>6692</th>\n",
       "      <td>Q0115</td>\n",
       "      <td>chrM</td>\n",
       "      <td>+</td>\n",
       "      <td>Q0110</td>\n",
       "    </tr>\n",
       "    <tr>\n",
       "      <th>6693</th>\n",
       "      <td>Q0120</td>\n",
       "      <td>chrM</td>\n",
       "      <td>+</td>\n",
       "      <td>Q0110</td>\n",
       "    </tr>\n",
       "  </tbody>\n",
       "</table>\n",
       "<p>2587 rows × 4 columns</p>\n",
       "</div>"
      ],
      "text/plain": [
       "         gene chromosome strand paralog_group\n",
       "1     YAL002W       chrI      +       YAL002W\n",
       "4     YAL005C       chrI      -       YKL073W\n",
       "5     YAL007C       chrI      -       YAL007C\n",
       "10    YAL012W       chrI      +       YLL058W\n",
       "13    YAL015C       chrI      -       YAL015C\n",
       "...       ...        ...    ...           ...\n",
       "6685    Q0070       chrM      +         Q0070\n",
       "6690    Q0105       chrM      +         Q0110\n",
       "6691    Q0110       chrM      +         Q0110\n",
       "6692    Q0115       chrM      +         Q0110\n",
       "6693    Q0120       chrM      +         Q0110\n",
       "\n",
       "[2587 rows x 4 columns]"
      ]
     },
     "execution_count": 5,
     "metadata": {},
     "output_type": "execute_result"
    }
   ],
   "source": [
    "# 1. Group by paralog_group and collect gene lists\n",
    "paralog_groups = summary.groupby(\"paralog_group\")[\"gene\"].apply(list)\n",
    "\n",
    "# 2. Create a set of genes that have at least one other paralog\n",
    "genes_with_paralogs = set()\n",
    "for group in paralog_groups:\n",
    "    if len(group) > 1:\n",
    "        genes_with_paralogs.update(group)\n",
    "\n",
    "# 3. Filter summary for these genes\n",
    "summary[summary[\"gene\"].isin(genes_with_paralogs)]"
   ]
  },
  {
   "cell_type": "markdown",
   "id": "50156774",
   "metadata": {},
   "source": [
    "### Paralog clusters analysis"
   ]
  },
  {
   "cell_type": "code",
   "execution_count": 6,
   "id": "fa497804",
   "metadata": {},
   "outputs": [
    {
     "data": {
      "application/vnd.microsoft.datawrangler.viewer.v0+json": {
       "columns": [
        {
         "name": "size",
         "rawType": "int64",
         "type": "integer"
        },
        {
         "name": "count",
         "rawType": "int64",
         "type": "integer"
        }
       ],
       "ref": "c1e69fc8-666d-4254-b97b-e42fa08cd4c5",
       "rows": [
        [
         "2",
         "509"
        ],
        [
         "3",
         "155"
        ],
        [
         "4",
         "76"
        ],
        [
         "5",
         "37"
        ],
        [
         "6",
         "20"
        ],
        [
         "7",
         "8"
        ],
        [
         "8",
         "5"
        ],
        [
         "9",
         "9"
        ],
        [
         "10",
         "4"
        ],
        [
         "11",
         "1"
        ],
        [
         "13",
         "2"
        ],
        [
         "14",
         "4"
        ],
        [
         "16",
         "2"
        ],
        [
         "21",
         "1"
        ],
        [
         "23",
         "1"
        ],
        [
         "24",
         "1"
        ],
        [
         "27",
         "1"
        ],
        [
         "29",
         "2"
        ]
       ],
       "shape": {
        "columns": 1,
        "rows": 18
       }
      },
      "text/plain": [
       "size\n",
       "2     509\n",
       "3     155\n",
       "4      76\n",
       "5      37\n",
       "6      20\n",
       "7       8\n",
       "8       5\n",
       "9       9\n",
       "10      4\n",
       "11      1\n",
       "13      2\n",
       "14      4\n",
       "16      2\n",
       "21      1\n",
       "23      1\n",
       "24      1\n",
       "27      1\n",
       "29      2\n",
       "Name: count, dtype: int64"
      ]
     },
     "execution_count": 6,
     "metadata": {},
     "output_type": "execute_result"
    }
   ],
   "source": [
    "reader = HDFReader(Path(\"../data/prepared/genewise.h5\"))\n",
    "\n",
    "# Create clusters DataFrame with group size\n",
    "clusters = summary.groupby(\"paralog_group\")[\"gene\"].apply(list).reset_index()\n",
    "clusters[\"size\"] = clusters[\"gene\"].apply(len)\n",
    "\n",
    "# Filter clusters to those with size > 1\n",
    "clusters = clusters[clusters[\"size\"] > 1]\n",
    "clusters[\"size\"].value_counts().sort_index()"
   ]
  },
  {
   "cell_type": "code",
   "execution_count": 7,
   "id": "14c1a33f",
   "metadata": {},
   "outputs": [],
   "source": [
    "def get_pearson_correlation_from_cluster(\n",
    "    genes: list[str], reader: HDFReader\n",
    ") -> np.ndarray:\n",
    "    \"\"\"\n",
    "    Calculate Pearson correlation for a given cluster of genes.\n",
    "    Args:\n",
    "        genes (list[str]): List of gene names in the cluster.\n",
    "        reader (HDFReader): HDF5 reader to access gene embeddings and expressions.\n",
    "    Returns:\n",
    "        np.ndarray: Pearson correlation matrices for gene expressions.\n",
    "    \"\"\"\n",
    "    exp = np.array([reader[g][1] for g in genes])\n",
    "    variances = np.var(exp, axis=1)\n",
    "    zero_var_mask = variances == 0\n",
    "\n",
    "    if np.any(zero_var_mask):\n",
    "        valid_indices = ~zero_var_mask\n",
    "\n",
    "        if np.sum(valid_indices) < 2:\n",
    "            return np.full((len(genes), len(genes)), np.nan)\n",
    "        exp = exp[valid_indices]\n",
    "\n",
    "    corr_matrix = np.corrcoef(exp)\n",
    "\n",
    "    if corr_matrix.ndim == 0:\n",
    "        corr_matrix = np.array([[1.0]])\n",
    "\n",
    "    return corr_matrix"
   ]
  },
  {
   "cell_type": "code",
   "execution_count": 8,
   "id": "6cb56f86",
   "metadata": {},
   "outputs": [],
   "source": [
    "def compute_cluster_correlations(clusters: pd.DataFrame, reader: HDFReader) -> pd.Series:\n",
    "    \"\"\"\n",
    "    Compute the mean intra-cluster Pearson correlation for each paralog cluster.\n",
    "\n",
    "    Args:\n",
    "        clusters (pd.DataFrame): DataFrame or Series mapping paralog_group to list of genes.\n",
    "        reader (HDFReader): HDF5 reader to access gene expressions.\n",
    "\n",
    "    Returns:\n",
    "        pd.Series: Mean Pearson correlation for each cluster (indexed by paralog_group).\n",
    "    \"\"\"\n",
    "    cluster_correlations = {}\n",
    "    for i, genes in clusters.items():\n",
    "        if len(genes) > 1:\n",
    "            corr_matrix = get_pearson_correlation_from_cluster(genes, reader)\n",
    "\n",
    "            # Check if correlation matrix contains NaN values\n",
    "            if np.isnan(corr_matrix).all():\n",
    "                continue\n",
    "\n",
    "            upper_tri = corr_matrix[np.triu_indices(corr_matrix.shape[0], k=1)]\n",
    "\n",
    "            # Filter out NaN values from upper triangle\n",
    "            valid_correlations = upper_tri[~np.isnan(upper_tri)]\n",
    "\n",
    "            if len(valid_correlations) > 0:\n",
    "                cluster_correlations[i] = valid_correlations.mean()\n",
    "            else:\n",
    "                print(f\"Skipping cluster {i} - no valid correlations\")\n",
    "\n",
    "    return pd.Series(cluster_correlations)\n"
   ]
  },
  {
   "cell_type": "code",
   "execution_count": 9,
   "id": "af99a081",
   "metadata": {},
   "outputs": [],
   "source": [
    "def visualize_comprehensive_cluster_heatmap(\n",
    "    clusters: pd.Series, reader: HDFReader, top_n: int = 8\n",
    "):\n",
    "    \"\"\"\n",
    "    Generates a comprehensive heatmap showing both intra and inter-cluster correlations\n",
    "    with visual indicators to distinguish between them.\n",
    "\n",
    "    Args:\n",
    "        clusters (pd.Series): Series mapping paralog_group to list of genes\n",
    "        reader (HDFReader): HDF5 reader to access gene expressions\n",
    "        top_n (int): Number of top clusters to visualize\n",
    "    \"\"\"\n",
    "    correlation_series = compute_cluster_correlations(clusters, reader)\n",
    "    top_clusters = correlation_series.nlargest(top_n)\n",
    "\n",
    "    if len(top_clusters) == 0:\n",
    "        print(\"No clusters to visualize.\")\n",
    "        return\n",
    "\n",
    "    all_genes = []\n",
    "    cluster_boundaries = []\n",
    "    current_pos = 0\n",
    "\n",
    "    # Collect all genes from top clusters in order\n",
    "    for cluster_id in top_clusters.index:\n",
    "        cluster_genes = clusters[cluster_id]\n",
    "        all_genes.extend(cluster_genes)\n",
    "        current_pos += len(cluster_genes)\n",
    "        cluster_boundaries.append(current_pos)\n",
    "    # Create correlation matrix for all genes\n",
    "    all_expressions = np.array([reader[g][1] for g in all_genes])\n",
    "    full_corr_matrix = np.corrcoef(all_expressions)\n",
    "\n",
    "    # Create cluster assignment for each gene position\n",
    "    pos_to_cluster = {}\n",
    "    current_pos = 0\n",
    "    for i, cluster_id in enumerate(top_clusters.index):\n",
    "        cluster_size = len(clusters[cluster_id])\n",
    "        for j in range(cluster_size):\n",
    "            pos_to_cluster[current_pos + j] = i\n",
    "        current_pos += cluster_size\n",
    "\n",
    "    annotations = np.full_like(full_corr_matrix, \"\", dtype=object)\n",
    "\n",
    "    for i in range(len(all_genes)):\n",
    "        for j in range(len(all_genes)):\n",
    "            if i != j and abs(full_corr_matrix[i, j]) > 0.3:\n",
    "                annotations[i, j] = f\"{full_corr_matrix[i, j]:.2f}\"\n",
    "\n",
    "    fig, (ax1, ax2) = plt.subplots(\n",
    "        1, 2, figsize=(20, 8), gridspec_kw={\"width_ratios\": [4, 1]}\n",
    "    )\n",
    "\n",
    "    sns.heatmap(\n",
    "        full_corr_matrix,\n",
    "        cmap=\"RdBu_r\",\n",
    "        center=0,\n",
    "        vmin=-1,\n",
    "        vmax=1,\n",
    "        xticklabels=all_genes,\n",
    "        yticklabels=all_genes,\n",
    "        annot=annotations,\n",
    "        fmt=\"\",\n",
    "        annot_kws={\"size\": 8},\n",
    "        ax=ax1,\n",
    "        cbar_kws={\"label\": \"Pearson Correlation\"},\n",
    "    )\n",
    "\n",
    "    for i, boundary in enumerate(cluster_boundaries[:-1]):\n",
    "        ax1.axhline(y=boundary, color=\"black\", linewidth=3)\n",
    "        ax1.axvline(x=boundary, color=\"black\", linewidth=3)\n",
    "\n",
    "    ax1.set_title(\n",
    "        f\"Paralog Clusters Correlation Matrix (Top {top_n})\", fontsize=14, pad=20\n",
    "    )\n",
    "    ax1.set_xlabel(\"Genes (Grouped by Paralog Cluster)\", fontsize=12)\n",
    "    ax1.set_ylabel(\"Genes (Grouped by Paralog Cluster)\", fontsize=12)\n",
    "\n",
    "    ax2.axis(\"off\")\n",
    "\n",
    "    plt.tight_layout()\n",
    "    plt.show()\n",
    "\n",
    "    print(f\"\\nComprehensive Summary for ALL {len(correlation_series)} Paralog Clusters:\")\n",
    "    print(\"=\" * 60)\n",
    "\n",
    "    all_correlation_values = correlation_series.values\n",
    "    print(\"Overall cluster correlation statistics:\")\n",
    "    print(f\"  Mean: {np.mean(all_correlation_values):.3f}\")\n",
    "    print(f\"  Median: {np.median(all_correlation_values):.3f}\")\n",
    "    print(f\"  Std: {np.std(all_correlation_values):.3f}\")\n",
    "    print(f\"  Min: {np.min(all_correlation_values):.3f}\")\n",
    "    print(f\"  Max: {np.max(all_correlation_values):.3f}\")\n",
    "\n",
    "    high_corr = correlation_series[correlation_series > 0.7]\n",
    "    medium_corr = correlation_series[\n",
    "        (correlation_series >= 0.3) & (correlation_series <= 0.7)\n",
    "    ]\n",
    "    low_corr = correlation_series[correlation_series < 0.3]\n",
    "\n",
    "    print(\"\\nCluster categories:\")\n",
    "    print(f\"  High correlation (r > 0.7): {len(high_corr)} clusters\")\n",
    "    print(f\"  Medium correlation (0.3 ≤ r ≤ 0.7): {len(medium_corr)} clusters\")\n",
    "    print(f\"  Low correlation (r < 0.3): {len(low_corr)} clusters\")\n",
    "\n",
    "    print(\"\\nTop 20 most correlated clusters:\")\n",
    "    for i, (cluster_id, corr_val) in enumerate(\n",
    "        correlation_series.nlargest(20).items(), 1\n",
    "    ):\n",
    "        cluster_genes = clusters[cluster_id]\n",
    "        print(f\"  {i:2d}. Cluster {cluster_id}: {corr_val:.3f} - {cluster_genes}\")\n",
    "\n",
    "    print(\"\\nBottom 5 least correlated clusters:\")\n",
    "    for i, (cluster_id, corr_val) in enumerate(\n",
    "        correlation_series.nsmallest(5).items(), 1\n",
    "    ):\n",
    "        cluster_genes = clusters[cluster_id]\n",
    "        print(f\"  {i:2d}. Cluster {cluster_id}: {corr_val:.3f} - {cluster_genes}\")"
   ]
  },
  {
   "cell_type": "markdown",
   "id": "02aeba5d",
   "metadata": {},
   "source": [
    "### Average correlation for each cluster"
   ]
  },
  {
   "cell_type": "code",
   "execution_count": null,
   "id": "438d84cc",
   "metadata": {},
   "outputs": [],
   "source": [
    "correlation_series = compute_cluster_correlations(clusters[\"gene\"], reader)\n",
    "\n",
    "plt.figure(figsize=(10, 6))\n",
    "sns.histplot(correlation_series, kde=True, bins=30)\n",
    "plt.title(\"Distribution of Average Intra-Cluster Expression Correlations\")\n",
    "plt.xlabel(\"Mean Pearson Correlation\")\n",
    "plt.ylabel(\"Number of Paralog Clusters\")\n",
    "plt.show()"
   ]
  },
  {
   "cell_type": "markdown",
   "id": "a541af56",
   "metadata": {},
   "source": [
    "### HeatMap for paralog clusters with intra/inter cluster correlation"
   ]
  },
  {
   "cell_type": "code",
   "execution_count": null,
   "id": "b6d3d982",
   "metadata": {},
   "outputs": [],
   "source": [
    "visualize_comprehensive_cluster_heatmap(clusters[\"gene\"], reader, top_n=20)"
   ]
  }
 ],
 "metadata": {
  "kernelspec": {
   "display_name": ".venv",
   "language": "python",
   "name": "python3"
  },
  "language_info": {
   "codemirror_mode": {
    "name": "ipython",
    "version": 3
   },
   "file_extension": ".py",
   "mimetype": "text/x-python",
   "name": "python",
   "nbconvert_exporter": "python",
   "pygments_lexer": "ipython3",
   "version": "3.12.3"
  }
 },
 "nbformat": 4,
 "nbformat_minor": 5
}
