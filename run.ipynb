{
 "cells": [
  {
   "cell_type": "code",
   "execution_count": null,
   "metadata": {},
   "outputs": [],
   "source": [
    "%load_ext autoreload\n",
    "%autoreload 2"
   ]
  },
  {
   "cell_type": "code",
   "execution_count": 24,
   "metadata": {},
   "outputs": [],
   "source": [
    "import wandb\n",
    "import pytorch_lightning as pl\n",
    "from pathlib import Path\n",
    "from src.utils.io import HDFReader\n",
    "from src.data.preprocess import preprocess\n",
    "from src.data.modules.paralog import ParalogousGeneDataModule\n",
    "from src.models.baseline import ConvolutionalModel\n",
    "from pytorch_lightning.loggers import WandbLogger"
   ]
  },
  {
   "cell_type": "code",
   "execution_count": 25,
   "metadata": {},
   "outputs": [],
   "source": [
    "# preprocess(\n",
    "#     \"data/genome/gff_file.gff\",\n",
    "#     \"data/genome/fasta_file.fsa\",\n",
    "#     \"data/embeddings\",\n",
    "#     \"data/waern_2013\",\n",
    "#     \"data/samples.json\",\n",
    "#     \"data/processed\",\n",
    "#     500,\n",
    "# )"
   ]
  },
  {
   "cell_type": "code",
   "execution_count": null,
   "metadata": {},
   "outputs": [],
   "source": [
    "summary_path = Path(\"data/processed/summary.csv\")\n",
    "h5_path = Path(\"data/processed/genewise.h5\")\n",
    "\n",
    "summary_path.exists() and h5_path.exists()"
   ]
  },
  {
   "cell_type": "code",
   "execution_count": 27,
   "metadata": {},
   "outputs": [],
   "source": [
    "h5_reader = HDFReader(\"data/processed/genewise.h5\")"
   ]
  },
  {
   "cell_type": "code",
   "execution_count": 28,
   "metadata": {},
   "outputs": [],
   "source": [
    "dm = ParalogousGeneDataModule(h5_reader, summary_path, 1)\n",
    "train_loader = dm.train_dataloader()\n",
    "test_loader = dm.test_dataloader()"
   ]
  },
  {
   "cell_type": "code",
   "execution_count": null,
   "metadata": {},
   "outputs": [],
   "source": [
    "lr = 1e-3\n",
    "batch_size = 32\n",
    "\n",
    "for fold in range(5):\n",
    "    dm = ParalogousGeneDataModule(h5_reader, summary_path, fold, batch_size=batch_size)\n",
    "    train_loader = dm.train_dataloader()\n",
    "    test_loader = dm.test_dataloader()\n",
    "\n",
    "    model = ConvolutionalModel(pooling_type=\"max\", learning_rate=lr)\n",
    "    wandb_logger = WandbLogger(project=\"RNA_prediction\", name=f\"fold_{fold}, max convolution, lr={lr}, batch_size={batch_size}\")\n",
    "    trainer = pl.Trainer(max_epochs=20, logger=wandb_logger)\n",
    "    trainer.fit(model, train_loader, test_loader)\n",
    "\n",
    "    wandb.finish()"
   ]
  }
 ],
 "metadata": {
  "kernelspec": {
   "display_name": ".venv",
   "language": "python",
   "name": "python3"
  },
  "language_info": {
   "codemirror_mode": {
    "name": "ipython",
    "version": 3
   },
   "file_extension": ".py",
   "mimetype": "text/x-python",
   "name": "python",
   "nbconvert_exporter": "python",
   "pygments_lexer": "ipython3",
   "version": "3.12.9"
  }
 },
 "nbformat": 4,
 "nbformat_minor": 2
}
