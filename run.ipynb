{
 "cells": [
  {
   "cell_type": "code",
   "execution_count": 7,
   "metadata": {},
   "outputs": [
    {
     "name": "stdout",
     "output_type": "stream",
     "text": [
      "The autoreload extension is already loaded. To reload it, use:\n",
      "  %reload_ext autoreload\n"
     ]
    }
   ],
   "source": [
    "%load_ext autoreload\n",
    "%autoreload 2"
   ]
  },
  {
   "cell_type": "code",
   "execution_count": 11,
   "metadata": {},
   "outputs": [],
   "source": [
    "import pandas as pd\n",
    "\n",
    "from src.data.preprocess import preprocess"
   ]
  },
  {
   "cell_type": "code",
   "execution_count": 9,
   "metadata": {},
   "outputs": [
    {
     "name": "stderr",
     "output_type": "stream",
     "text": [
      "100%|██████████| 17/17 [02:50<00:00, 10.01s/it]\n"
     ]
    },
    {
     "name": "stdout",
     "output_type": "stream",
     "text": [
      "Querying BioMart for paralogs of 6705 genes...\n"
     ]
    }
   ],
   "source": [
    "preprocess(\n",
    "    \"data/genome/gff_file.gff\",\n",
    "    \"data/genome/fasta_file.fsa\",\n",
    "    \"data/embeddings\",\n",
    "    \"data/waern_2013\",\n",
    "    \"data/samples.json\",\n",
    "    \"data/processed\",\n",
    "    500,\n",
    ")"
   ]
  },
  {
   "cell_type": "code",
   "execution_count": 12,
   "metadata": {},
   "outputs": [
    {
     "data": {
      "text/html": [
       "<div>\n",
       "<style scoped>\n",
       "    .dataframe tbody tr th:only-of-type {\n",
       "        vertical-align: middle;\n",
       "    }\n",
       "\n",
       "    .dataframe tbody tr th {\n",
       "        vertical-align: top;\n",
       "    }\n",
       "\n",
       "    .dataframe thead th {\n",
       "        text-align: right;\n",
       "    }\n",
       "</style>\n",
       "<table border=\"1\" class=\"dataframe\">\n",
       "  <thead>\n",
       "    <tr style=\"text-align: right;\">\n",
       "      <th></th>\n",
       "      <th>gene</th>\n",
       "      <th>coordinates</th>\n",
       "      <th>chromosome</th>\n",
       "      <th>strand</th>\n",
       "      <th>paralog_group</th>\n",
       "    </tr>\n",
       "  </thead>\n",
       "  <tbody>\n",
       "    <tr>\n",
       "      <th>0</th>\n",
       "      <td>YAL001C</td>\n",
       "      <td>[(147594, 151006), (151097, 151166)]</td>\n",
       "      <td>chrI</td>\n",
       "      <td>-</td>\n",
       "      <td>YAL001C</td>\n",
       "    </tr>\n",
       "    <tr>\n",
       "      <th>1</th>\n",
       "      <td>YAL002W</td>\n",
       "      <td>[(143707, 147531)]</td>\n",
       "      <td>chrI</td>\n",
       "      <td>+</td>\n",
       "      <td>YAL002W</td>\n",
       "    </tr>\n",
       "    <tr>\n",
       "      <th>2</th>\n",
       "      <td>YAL003W</td>\n",
       "      <td>[(142174, 142253), (142620, 143160)]</td>\n",
       "      <td>chrI</td>\n",
       "      <td>+</td>\n",
       "      <td>YAL003W</td>\n",
       "    </tr>\n",
       "    <tr>\n",
       "      <th>3</th>\n",
       "      <td>YAL004W</td>\n",
       "      <td>[(140760, 141407)]</td>\n",
       "      <td>chrI</td>\n",
       "      <td>+</td>\n",
       "      <td>YAL004W</td>\n",
       "    </tr>\n",
       "    <tr>\n",
       "      <th>4</th>\n",
       "      <td>YAL005C</td>\n",
       "      <td>[(139503, 141431)]</td>\n",
       "      <td>chrI</td>\n",
       "      <td>-</td>\n",
       "      <td>YKL073W</td>\n",
       "    </tr>\n",
       "  </tbody>\n",
       "</table>\n",
       "</div>"
      ],
      "text/plain": [
       "      gene                           coordinates chromosome strand  \\\n",
       "0  YAL001C  [(147594, 151006), (151097, 151166)]       chrI      -   \n",
       "1  YAL002W                    [(143707, 147531)]       chrI      +   \n",
       "2  YAL003W  [(142174, 142253), (142620, 143160)]       chrI      +   \n",
       "3  YAL004W                    [(140760, 141407)]       chrI      +   \n",
       "4  YAL005C                    [(139503, 141431)]       chrI      -   \n",
       "\n",
       "  paralog_group  \n",
       "0       YAL001C  \n",
       "1       YAL002W  \n",
       "2       YAL003W  \n",
       "3       YAL004W  \n",
       "4       YKL073W  "
      ]
     },
     "execution_count": 12,
     "metadata": {},
     "output_type": "execute_result"
    }
   ],
   "source": [
    "df_summary = pd.read_csv(\"data/processed/summary.csv\")\n",
    "df_summary.head()"
   ]
  },
  {
   "cell_type": "code",
   "execution_count": 13,
   "metadata": {},
   "outputs": [
    {
     "data": {
      "text/plain": [
       "paralog_group\n",
       "YIL011W      29\n",
       "YPR202W      29\n",
       "YDL247W      27\n",
       "YGR257C      24\n",
       "YDL031W      23\n",
       "             ..\n",
       "YAL025C       1\n",
       "YAL034C-B     1\n",
       "YAL034W-A     1\n",
       "YAL037C-A     1\n",
       "YAL037C-B     1\n",
       "Name: count, Length: 4956, dtype: int64"
      ]
     },
     "execution_count": 13,
     "metadata": {},
     "output_type": "execute_result"
    }
   ],
   "source": [
    "df_summary[\"paralog_group\"].value_counts()"
   ]
  }
 ],
 "metadata": {
  "kernelspec": {
   "display_name": ".venv",
   "language": "python",
   "name": "python3"
  },
  "language_info": {
   "codemirror_mode": {
    "name": "ipython",
    "version": 3
   },
   "file_extension": ".py",
   "mimetype": "text/x-python",
   "name": "python",
   "nbconvert_exporter": "python",
   "pygments_lexer": "ipython3",
   "version": "3.12.9"
  }
 },
 "nbformat": 4,
 "nbformat_minor": 2
}
