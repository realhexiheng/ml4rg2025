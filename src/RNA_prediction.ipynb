{
 "cells": [
  {
   "cell_type": "markdown",
   "metadata": {
    "id": "9IyjFlOKErSC"
   },
   "source": [
    "# Preparation"
   ]
  },
  {
   "cell_type": "code",
   "execution_count": 7,
   "metadata": {
    "executionInfo": {
     "elapsed": 8167,
     "status": "ok",
     "timestamp": 1750081713101,
     "user": {
      "displayName": "Nico Trummer",
      "userId": "05265699363805753010"
     },
     "user_tz": -120
    },
    "id": "5ZanIXvXFlyS"
   },
   "outputs": [],
   "source": [
    "from Bio import SeqIO\n",
    "from collections import defaultdict\n",
    "from tqdm import tqdm\n",
    "import torch\n",
    "from torch.utils.data import Dataset, DataLoader\n",
    "from typing import List\n",
    "import torch.nn as nn\n",
    "import os\n",
    "import json\n",
    "import numpy as np\n",
    "\n",
    "from genome import parse_gff"
   ]
  },
  {
   "cell_type": "markdown",
   "metadata": {
    "id": "6-zLlKvSFm0Q"
   },
   "source": [
    "## Util functions"
   ]
  },
  {
   "cell_type": "markdown",
   "metadata": {
    "id": "jOF16yxjH7vI"
   },
   "source": [
    "### Get cerevisiae fasta and gtf"
   ]
  },
  {
   "cell_type": "code",
   "execution_count": 16,
   "metadata": {
    "executionInfo": {
     "elapsed": 4,
     "status": "ok",
     "timestamp": 1750081809058,
     "user": {
      "displayName": "Nico Trummer",
      "userId": "05265699363805753010"
     },
     "user_tz": -120
    },
    "id": "HQmDFelWN3vC"
   },
   "outputs": [],
   "source": [
    "fasta_file = SeqIO.parse(\"../data/genome/fasta_file.fsa\", \"fasta\")"
   ]
  },
  {
   "cell_type": "code",
   "execution_count": null,
   "metadata": {},
   "outputs": [],
   "source": [
    "for seq in SeqIO.parse(\"../data/genome/fasta_file.fsa\", \"fasta\"):\n",
    "    print(len(seq))"
   ]
  },
  {
   "cell_type": "code",
   "execution_count": null,
   "metadata": {
    "colab": {
     "base_uri": "https://localhost:8080/"
    },
    "executionInfo": {
     "elapsed": 155,
     "status": "ok",
     "timestamp": 1750081809229,
     "user": {
      "displayName": "Nico Trummer",
      "userId": "05265699363805753010"
     },
     "user_tz": -120
    },
    "id": "rQ30HxDvSCde",
    "outputId": "365ca5b9-5032-4c29-ea4f-1840a9e423c9"
   },
   "outputs": [],
   "source": [
    "\n",
    "cds_coords = parse_gff(\"../data/genome/gff_file.gff\")\n",
    "print(cds_coords[\"YDL075W\"])\n",
    "print(cds_coords[\"YDL045C\"])"
   ]
  },
  {
   "cell_type": "markdown",
   "metadata": {
    "id": "oA15fX7PE3a4"
   },
   "source": [
    "# Investigating the data"
   ]
  },
  {
   "cell_type": "markdown",
   "metadata": {
    "id": "A1gjVXvs27mZ"
   },
   "source": [
    "Please, add a shortcut of the Shared folder to your drive: thus you can get access to the files from here"
   ]
  },
  {
   "cell_type": "code",
   "execution_count": 32,
   "metadata": {
    "executionInfo": {
     "elapsed": 21,
     "status": "ok",
     "timestamp": 1750084337237,
     "user": {
      "displayName": "Nico Trummer",
      "userId": "05265699363805753010"
     },
     "user_tz": -120
    },
    "id": "cd9lSTzU0EIb"
   },
   "outputs": [],
   "source": [
    "EMBEDDING_SIZE = 768"
   ]
  },
  {
   "cell_type": "code",
   "execution_count": null,
   "metadata": {
    "executionInfo": {
     "elapsed": 3,
     "status": "ok",
     "timestamp": 1750084337280,
     "user": {
      "displayName": "Nico Trummer",
      "userId": "05265699363805753010"
     },
     "user_tz": -120
    },
    "id": "AlYN_5CEbXrM"
   },
   "outputs": [],
   "source": [
    "condition_samples = json.load(open(\"samples.json\"))\n",
    "condition_samples"
   ]
  },
  {
   "cell_type": "code",
   "execution_count": 8,
   "metadata": {
    "executionInfo": {
     "elapsed": 7,
     "status": "ok",
     "timestamp": 1750084337288,
     "user": {
      "displayName": "Nico Trummer",
      "userId": "05265699363805753010"
     },
     "user_tz": -120
    },
    "id": "5uBORzEOI0ul"
   },
   "outputs": [],
   "source": [
    "def load_sample(sample_id: str):\n",
    "  return {\n",
    "      \"Sense\": np.load(f\"../data/waern_2013/{sample_id}.sense_bp1.npz\"),\n",
    "      \"Antisense\": np.load(f\"../data/waern_2013/{sample_id}.antisense_bp1.npz\")\n",
    "  }"
   ]
  },
  {
   "cell_type": "code",
   "execution_count": null,
   "metadata": {
    "colab": {
     "base_uri": "https://localhost:8080/"
    },
    "executionInfo": {
     "elapsed": 16,
     "status": "ok",
     "timestamp": 1750084337898,
     "user": {
      "displayName": "Nico Trummer",
      "userId": "05265699363805753010"
     },
     "user_tz": -120
    },
    "id": "ZSrIRwN9a_iE",
    "outputId": "3d42d3dd-0bfe-4119-ea6c-6ee5f3f5791f"
   },
   "outputs": [],
   "source": [
    "conditions = sorted(list(condition_samples.keys()))\n",
    "conditions[:5]"
   ]
  },
  {
   "cell_type": "code",
   "execution_count": null,
   "metadata": {
    "colab": {
     "base_uri": "https://localhost:8080/"
    },
    "executionInfo": {
     "elapsed": 6,
     "status": "ok",
     "timestamp": 1750084338829,
     "user": {
      "displayName": "Nico Trummer",
      "userId": "05265699363805753010"
     },
     "user_tz": -120
    },
    "id": "_bCP-j-YRULB",
    "outputId": "2fd638e5-b63a-4391-8bd5-8a2d41494e00"
   },
   "outputs": [],
   "source": [
    "samples = sorted([s for c_s in condition_samples.values() for s in c_s])\n",
    "samples[:5]"
   ]
  },
  {
   "cell_type": "code",
   "execution_count": 2,
   "metadata": {},
   "outputs": [],
   "source": [
    "import numpy as np\n",
    "\n",
    "raw = np.load(\"../data/embeddings/chrI.npy\")\n",
    "processed = np.load(\"../data/prepared/chrI.npz\")[\"X\"]"
   ]
  },
  {
   "cell_type": "code",
   "execution_count": 3,
   "metadata": {},
   "outputs": [
    {
     "data": {
      "text/plain": [
       "(230218, 768)"
      ]
     },
     "execution_count": 3,
     "metadata": {},
     "output_type": "execute_result"
    }
   ],
   "source": [
    "raw.shape"
   ]
  },
  {
   "cell_type": "code",
   "execution_count": null,
   "metadata": {
    "colab": {
     "base_uri": "https://localhost:8080/"
    },
    "executionInfo": {
     "elapsed": 11,
     "status": "ok",
     "timestamp": 1750084341772,
     "user": {
      "displayName": "Nico Trummer",
      "userId": "05265699363805753010"
     },
     "user_tz": -120
    },
    "id": "LojLEv_LK6cm",
    "outputId": "09d54bf8-fe6a-42d8-cd23-5906c6d40a42"
   },
   "outputs": [],
   "source": [
    "chromosome_genes = defaultdict(list)\n",
    "for gene, coords in cds_coords.items():\n",
    "  chromosome_genes[coords['chromosome']].append(gene)\n",
    "\n",
    "chromosome_genes['chrI'][:5]"
   ]
  },
  {
   "cell_type": "code",
   "execution_count": 51,
   "metadata": {
    "executionInfo": {
     "elapsed": 4,
     "status": "ok",
     "timestamp": 1750086932794,
     "user": {
      "displayName": "Nico Trummer",
      "userId": "05265699363805753010"
     },
     "user_tz": -120
    },
    "id": "vgncp64Si5UV"
   },
   "outputs": [],
   "source": [
    "holdout = [\"chrVIII\"]\n",
    "folds = [\n",
    "    ['chrI', 'chrII', 'chrIII'],\n",
    "    ['chrIV', 'chrV', 'chrVI'],\n",
    "    ['chrVII', 'chrIX', 'chrX'],\n",
    "    ['chrXI', 'chrXII', 'chrXIII'],\n",
    "    ['chrXIV', 'chrXV', 'chrXVI'],\n",
    "]"
   ]
  },
  {
   "cell_type": "code",
   "execution_count": null,
   "metadata": {
    "colab": {
     "base_uri": "https://localhost:8080/"
    },
    "executionInfo": {
     "elapsed": 117513,
     "status": "ok",
     "timestamp": 1750087276434,
     "user": {
      "displayName": "Nico Trummer",
      "userId": "05265699363805753010"
     },
     "user_tz": -120
    },
    "id": "Cz9kDqmfx5lg",
    "outputId": "51a4098d-ac0e-4ea3-a7f1-0b4605df925a"
   },
   "outputs": [],
   "source": [
    "ds = CustomDataset(['chrI', 'chrII', 'chrIII'])"
   ]
  },
  {
   "cell_type": "code",
   "execution_count": null,
   "metadata": {},
   "outputs": [],
   "source": [
    "ds.X"
   ]
  },
  {
   "cell_type": "code",
   "execution_count": null,
   "metadata": {
    "executionInfo": {
     "elapsed": 82,
     "status": "ok",
     "timestamp": 1750087276511,
     "user": {
      "displayName": "Nico Trummer",
      "userId": "05265699363805753010"
     },
     "user_tz": -120
    },
    "id": "XpIJ-V1syiN1"
   },
   "outputs": [],
   "source": [
    "loader = DataLoader(ds, batch_size=64, shuffle=True)"
   ]
  },
  {
   "cell_type": "code",
   "execution_count": 104,
   "metadata": {
    "executionInfo": {
     "elapsed": 40,
     "status": "ok",
     "timestamp": 1750087276555,
     "user": {
      "displayName": "Nico Trummer",
      "userId": "05265699363805753010"
     },
     "user_tz": -120
    },
    "id": "Q5f4ZY6xymaA"
   },
   "outputs": [],
   "source": [
    "X, Y = next(loader.__iter__())"
   ]
  },
  {
   "cell_type": "code",
   "execution_count": null,
   "metadata": {
    "colab": {
     "base_uri": "https://localhost:8080/"
    },
    "executionInfo": {
     "elapsed": 26,
     "status": "ok",
     "timestamp": 1750087098369,
     "user": {
      "displayName": "Nico Trummer",
      "userId": "05265699363805753010"
     },
     "user_tz": -120
    },
    "id": "GFU-Bj2IzIFQ",
    "outputId": "106b3410-320a-49bb-9af4-a2ad6b0feba2"
   },
   "outputs": [],
   "source": [
    "X.shape"
   ]
  },
  {
   "cell_type": "code",
   "execution_count": 105,
   "metadata": {
    "executionInfo": {
     "elapsed": 3,
     "status": "ok",
     "timestamp": 1750087280392,
     "user": {
      "displayName": "Nico Trummer",
      "userId": "05265699363805753010"
     },
     "user_tz": -120
    },
    "id": "4LHzZRjEyWj1"
   },
   "outputs": [],
   "source": [
    "class LinearModel(nn.Module):\n",
    "  \"\"\"\n",
    "  Ridge regression model.\n",
    "  Parameters\n",
    "  ----------\n",
    "  window_size : int\n",
    "    Size of the embedding context window.\n",
    "  \"\"\"\n",
    "  def __init__(self, window_size: int = 500, n_conditions: int = 18):\n",
    "    super(LinearModel, self).__init__()\n",
    "    self.linear = nn.Linear(window_size * EMBEDDING_SIZE, n_conditions)\n",
    "\n",
    "  def forward(self, x):\n",
    "    # Flatten x before linear\n",
    "    x = torch.flatten(x, start_dim=1)\n",
    "\n",
    "    return self.linear(x)"
   ]
  },
  {
   "cell_type": "code",
   "execution_count": null,
   "metadata": {
    "id": "BYfKvqecVrXW"
   },
   "outputs": [],
   "source": [
    "train_dataset = CustomDataset(train_chromosomes)\n",
    "test_dataset = CustomDataset(test_chromosomes)\n",
    "\n",
    "train_dataloader = DataLoader(train_dataset, batch_size=64, shuffle=True)\n",
    "test_dataloader = DataLoader(test_dataset, batch_size=64, shuffle=True)"
   ]
  },
  {
   "cell_type": "code",
   "execution_count": 110,
   "metadata": {
    "executionInfo": {
     "elapsed": 8314,
     "status": "ok",
     "timestamp": 1750087363746,
     "user": {
      "displayName": "Nico Trummer",
      "userId": "05265699363805753010"
     },
     "user_tz": -120
    },
    "id": "YKL7rrlf1DER"
   },
   "outputs": [],
   "source": [
    "model = LinearModel()\n",
    "optimizer = torch.optim.SGD(model.parameters(), lr=0.001, momentum=0.9)\n",
    "loss_fn = nn.MSELoss()"
   ]
  },
  {
   "cell_type": "code",
   "execution_count": 111,
   "metadata": {
    "executionInfo": {
     "elapsed": 7,
     "status": "ok",
     "timestamp": 1750087367274,
     "user": {
      "displayName": "Nico Trummer",
      "userId": "05265699363805753010"
     },
     "user_tz": -120
    },
    "id": "HSZVtKfp0yZT"
   },
   "outputs": [],
   "source": [
    "def train_one_epoch(epoch_index):\n",
    "    running_loss = 0.\n",
    "    last_loss = 0.\n",
    "\n",
    "    # Here, we use enumerate(training_loader) instead of\n",
    "    # iter(training_loader) so that we can track the batch\n",
    "    # index and do some intra-epoch reporting\n",
    "    for i, data in enumerate(train_dataloader):\n",
    "        # Every data instance is an input + label pair\n",
    "        inputs, labels = data\n",
    "\n",
    "        # Zero your gradients for every batch!\n",
    "        optimizer.zero_grad()\n",
    "\n",
    "        # Make predictions for this batch\n",
    "        outputs = model(inputs)\n",
    "\n",
    "        # Compute the loss and its gradients\n",
    "        loss = loss_fn(outputs, labels)\n",
    "        loss.backward()\n",
    "\n",
    "        # Adjust learning weights\n",
    "        optimizer.step()\n",
    "\n",
    "        # Gather data and report\n",
    "        running_loss += loss.item()\n",
    "        if i % 1000 == 999:\n",
    "            last_loss = running_loss / 1000 # loss per batch\n",
    "            print('  batch {} loss: {}'.format(i + 1, last_loss))\n",
    "            # tb_x = epoch_index * len(train_dataloader) + i + 1\n",
    "            # tb_writer.add_scalar('Loss/train', last_loss, tb_x)\n",
    "            running_loss = 0.\n",
    "\n",
    "    return last_loss"
   ]
  },
  {
   "cell_type": "code",
   "execution_count": null,
   "metadata": {
    "colab": {
     "base_uri": "https://localhost:8080/",
     "height": 263
    },
    "executionInfo": {
     "elapsed": 65,
     "status": "error",
     "timestamp": 1750087379556,
     "user": {
      "displayName": "Nico Trummer",
      "userId": "05265699363805753010"
     },
     "user_tz": -120
    },
    "id": "zMFG00TOVg0f",
    "outputId": "67d56c95-e779-419a-a75e-1f3ee5d24d7b"
   },
   "outputs": [],
   "source": [
    "train_one_epoch(0)"
   ]
  },
  {
   "cell_type": "code",
   "execution_count": null,
   "metadata": {
    "colab": {
     "base_uri": "https://localhost:8080/"
    },
    "executionInfo": {
     "elapsed": 17,
     "status": "ok",
     "timestamp": 1750076823683,
     "user": {
      "displayName": "Nico Trummer",
      "userId": "05265699363805753010"
     },
     "user_tz": -120
    },
    "id": "B7sSji-ukc4W",
    "outputId": "2f8f4bc4-ffc0-4b86-9a81-c98f43e72189"
   },
   "outputs": [],
   "source": [
    "for i in range(len(folds)):\n",
    "  test_chromosomes = folds[i]\n",
    "  train_chromosomes = []\n",
    "  for j in range(len(folds)):\n",
    "    if i != j:\n",
    "      train_chromosomes += folds[j]\n",
    "\n",
    "  train_dataset = CustomDataset(train_chromosomes)\n",
    "  test_dataset = CustomDataset(test_chromosomes)\n",
    "\n",
    "  train_dataloader = DataLoader(train_dataset, batch_size=64, shuffle=True)\n",
    "  test_dataloader = DataLoader(test_dataset, batch_size=64, shuffle=True)\n",
    "\n",
    "  print(train_dataset, test_dataset)\n",
    "  break"
   ]
  },
  {
   "cell_type": "code",
   "execution_count": null,
   "metadata": {
    "colab": {
     "base_uri": "https://localhost:8080/",
     "height": 332
    },
    "executionInfo": {
     "elapsed": 18,
     "status": "error",
     "timestamp": 1750054104014,
     "user": {
      "displayName": "Nico Trummer",
      "userId": "05265699363805753010"
     },
     "user_tz": -120
    },
    "id": "tazTc3IG4bcm",
    "outputId": "71d5a422-c6fb-486c-cce2-eadb21f6742d"
   },
   "outputs": [],
   "source": [
    "data_tracks = {\n",
    "    \"Sense\": data,\n",
    "    \"Antisense\": data_antisense,\n",
    "}\n",
    "plot_region_with_signals(\n",
    "    cds_coords    = cds_coords,\n",
    "    data_tracks   = data_tracks,\n",
    "    chromosome    = 'chrIV',\n",
    "    region_start  = 399000,\n",
    "    region_end    = 400800\n",
    ")"
   ]
  }
 ],
 "metadata": {
  "accelerator": "GPU",
  "colab": {
   "gpuType": "T4",
   "provenance": [
    {
     "file_id": "1-_TBzMPqf527vsoYuIUxJ1NZdFimPqEE",
     "timestamp": 1750017471032
    }
   ]
  },
  "kernelspec": {
   "display_name": ".venv",
   "language": "python",
   "name": "python3"
  },
  "language_info": {
   "codemirror_mode": {
    "name": "ipython",
    "version": 3
   },
   "file_extension": ".py",
   "mimetype": "text/x-python",
   "name": "python",
   "nbconvert_exporter": "python",
   "pygments_lexer": "ipython3",
   "version": "3.12.9"
  }
 },
 "nbformat": 4,
 "nbformat_minor": 0
}
