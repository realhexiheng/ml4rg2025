{
 "cells": [
  {
   "cell_type": "code",
   "execution_count": 3,
   "metadata": {},
   "outputs": [],
   "source": [
    "%load_ext autoreload\n",
    "%autoreload 2"
   ]
  },
  {
   "cell_type": "code",
   "execution_count": null,
   "metadata": {},
   "outputs": [],
   "source": []
  },
  {
   "cell_type": "code",
   "execution_count": 4,
   "metadata": {},
   "outputs": [],
   "source": [
    "from genome import get_chromosome_lengths, parse_gff, get_chromosome_valid_genes\n",
    "from utils import get_gene_embeddings, get_normalized_gene_expression\n",
    "import json\n",
    "import numpy as np\n",
    "import os\n",
    "from tqdm import tqdm"
   ]
  },
  {
   "cell_type": "code",
   "execution_count": 6,
   "metadata": {},
   "outputs": [],
   "source": [
    "chrom_lengths = get_chromosome_lengths(\"../data/genome/fasta_file.fsa\")\n",
    "cds_coords = parse_gff(\"../data/genome/gff_file.gff\")"
   ]
  },
  {
   "cell_type": "code",
   "execution_count": 7,
   "metadata": {},
   "outputs": [
    {
     "ename": "FileNotFoundError",
     "evalue": "[Errno 2] No such file or directory: '../data/samples.json'",
     "output_type": "error",
     "traceback": [
      "\u001b[1;31m---------------------------------------------------------------------------\u001b[0m",
      "\u001b[1;31mFileNotFoundError\u001b[0m                         Traceback (most recent call last)",
      "Cell \u001b[1;32mIn[7], line 1\u001b[0m\n\u001b[1;32m----> 1\u001b[0m condition_samples \u001b[38;5;241m=\u001b[39m json\u001b[38;5;241m.\u001b[39mload(\u001b[38;5;28;43mopen\u001b[39;49m\u001b[43m(\u001b[49m\u001b[38;5;124;43m\"\u001b[39;49m\u001b[38;5;124;43m../data/samples.json\u001b[39;49m\u001b[38;5;124;43m\"\u001b[39;49m\u001b[43m)\u001b[49m)\n\u001b[0;32m      2\u001b[0m conditions \u001b[38;5;241m=\u001b[39m \u001b[38;5;28msorted\u001b[39m(\u001b[38;5;28mlist\u001b[39m(condition_samples\u001b[38;5;241m.\u001b[39mkeys()))\n\u001b[0;32m      3\u001b[0m samples \u001b[38;5;241m=\u001b[39m \u001b[38;5;28msorted\u001b[39m([s \u001b[38;5;28;01mfor\u001b[39;00m c_s \u001b[38;5;129;01min\u001b[39;00m condition_samples\u001b[38;5;241m.\u001b[39mvalues() \u001b[38;5;28;01mfor\u001b[39;00m s \u001b[38;5;129;01min\u001b[39;00m c_s])\n",
      "File \u001b[1;32m~\\anaconda3\\envs\\single_cell\\Lib\\site-packages\\IPython\\core\\interactiveshell.py:324\u001b[0m, in \u001b[0;36m_modified_open\u001b[1;34m(file, *args, **kwargs)\u001b[0m\n\u001b[0;32m    317\u001b[0m \u001b[38;5;28;01mif\u001b[39;00m file \u001b[38;5;129;01min\u001b[39;00m {\u001b[38;5;241m0\u001b[39m, \u001b[38;5;241m1\u001b[39m, \u001b[38;5;241m2\u001b[39m}:\n\u001b[0;32m    318\u001b[0m     \u001b[38;5;28;01mraise\u001b[39;00m \u001b[38;5;167;01mValueError\u001b[39;00m(\n\u001b[0;32m    319\u001b[0m         \u001b[38;5;124mf\u001b[39m\u001b[38;5;124m\"\u001b[39m\u001b[38;5;124mIPython won\u001b[39m\u001b[38;5;124m'\u001b[39m\u001b[38;5;124mt let you open fd=\u001b[39m\u001b[38;5;132;01m{\u001b[39;00mfile\u001b[38;5;132;01m}\u001b[39;00m\u001b[38;5;124m by default \u001b[39m\u001b[38;5;124m\"\u001b[39m\n\u001b[0;32m    320\u001b[0m         \u001b[38;5;124m\"\u001b[39m\u001b[38;5;124mas it is likely to crash IPython. If you know what you are doing, \u001b[39m\u001b[38;5;124m\"\u001b[39m\n\u001b[0;32m    321\u001b[0m         \u001b[38;5;124m\"\u001b[39m\u001b[38;5;124myou can use builtins\u001b[39m\u001b[38;5;124m'\u001b[39m\u001b[38;5;124m open.\u001b[39m\u001b[38;5;124m\"\u001b[39m\n\u001b[0;32m    322\u001b[0m     )\n\u001b[1;32m--> 324\u001b[0m \u001b[38;5;28;01mreturn\u001b[39;00m \u001b[43mio_open\u001b[49m\u001b[43m(\u001b[49m\u001b[43mfile\u001b[49m\u001b[43m,\u001b[49m\u001b[43m \u001b[49m\u001b[38;5;241;43m*\u001b[39;49m\u001b[43margs\u001b[49m\u001b[43m,\u001b[49m\u001b[43m \u001b[49m\u001b[38;5;241;43m*\u001b[39;49m\u001b[38;5;241;43m*\u001b[39;49m\u001b[43mkwargs\u001b[49m\u001b[43m)\u001b[49m\n",
      "\u001b[1;31mFileNotFoundError\u001b[0m: [Errno 2] No such file or directory: '../data/samples.json'"
     ]
    }
   ],
   "source": [
    "condition_samples = json.load(open(\"../data/samples.json\"))\n",
    "conditions = sorted(list(condition_samples.keys()))\n",
    "samples = sorted([s for c_s in condition_samples.values() for s in c_s])"
   ]
  },
  {
   "cell_type": "code",
   "execution_count": 8,
   "metadata": {},
   "outputs": [
    {
     "ename": "NameError",
     "evalue": "name 'samples' is not defined",
     "output_type": "error",
     "traceback": [
      "\u001b[1;31m---------------------------------------------------------------------------\u001b[0m",
      "\u001b[1;31mNameError\u001b[0m                                 Traceback (most recent call last)",
      "Cell \u001b[1;32mIn[8], line 6\u001b[0m\n\u001b[0;32m      1\u001b[0m sample_expression \u001b[38;5;241m=\u001b[39m {\n\u001b[0;32m      2\u001b[0m     sample: {\n\u001b[0;32m      3\u001b[0m         \u001b[38;5;124m\"\u001b[39m\u001b[38;5;124m+\u001b[39m\u001b[38;5;124m\"\u001b[39m: np\u001b[38;5;241m.\u001b[39mload(\u001b[38;5;124mf\u001b[39m\u001b[38;5;124m\"\u001b[39m\u001b[38;5;124m../data/waern_2013/\u001b[39m\u001b[38;5;132;01m{\u001b[39;00msample\u001b[38;5;132;01m}\u001b[39;00m\u001b[38;5;124m.sense_bp1.npz\u001b[39m\u001b[38;5;124m\"\u001b[39m),\n\u001b[0;32m      4\u001b[0m         \u001b[38;5;124m\"\u001b[39m\u001b[38;5;124m-\u001b[39m\u001b[38;5;124m\"\u001b[39m: np\u001b[38;5;241m.\u001b[39mload(\u001b[38;5;124mf\u001b[39m\u001b[38;5;124m\"\u001b[39m\u001b[38;5;124m../data/waern_2013/\u001b[39m\u001b[38;5;132;01m{\u001b[39;00msample\u001b[38;5;132;01m}\u001b[39;00m\u001b[38;5;124m.antisense_bp1.npz\u001b[39m\u001b[38;5;124m\"\u001b[39m),\n\u001b[0;32m      5\u001b[0m     }\n\u001b[1;32m----> 6\u001b[0m     \u001b[38;5;28;01mfor\u001b[39;00m sample \u001b[38;5;129;01min\u001b[39;00m \u001b[43msamples\u001b[49m\n\u001b[0;32m      7\u001b[0m }\n",
      "\u001b[1;31mNameError\u001b[0m: name 'samples' is not defined"
     ]
    }
   ],
   "source": [
    "sample_expression = {\n",
    "    sample: {\n",
    "        \"+\": np.load(f\"../data/waern_2013/{sample}.sense_bp1.npz\"),\n",
    "        \"-\": np.load(f\"../data/waern_2013/{sample}.antisense_bp1.npz\"),\n",
    "    }\n",
    "    for sample in samples\n",
    "}"
   ]
  },
  {
   "cell_type": "code",
   "execution_count": 6,
   "metadata": {},
   "outputs": [],
   "source": [
    "chr_valid_genes = get_chromosome_valid_genes(cds_coords, chrom_lengths)"
   ]
  },
  {
   "cell_type": "code",
   "execution_count": 7,
   "metadata": {},
   "outputs": [
    {
     "name": "stdout",
     "output_type": "stream",
     "text": [
      "Processing chrI\n",
      "Skipping chrI because it already exists\n",
      "Processing chrII\n",
      "Skipping chrII because it already exists\n",
      "Processing chrIII\n",
      "Skipping chrIII because it already exists\n",
      "Processing chrIV\n",
      "Skipping chrIV because it already exists\n",
      "Processing chrV\n",
      "Skipping chrV because it already exists\n",
      "Processing chrVI\n",
      "Skipping chrVI because it already exists\n",
      "Processing chrVII\n",
      "Skipping chrVII because it already exists\n",
      "Processing chrVIII\n",
      "Skipping chrVIII because it already exists\n",
      "Processing chrIX\n",
      "Skipping chrIX because it already exists\n",
      "Processing chrX\n",
      "Skipping chrX because it already exists\n",
      "Processing chrXI\n",
      "Skipping chrXI because it already exists\n",
      "Processing chrXII\n",
      "Skipping chrXII because it already exists\n",
      "Processing chrXIII\n",
      "Skipping chrXIII because it already exists\n",
      "Processing chrXIV\n",
      "Skipping chrXIV because it already exists\n",
      "Processing chrXV\n",
      "Skipping chrXV because it already exists\n",
      "Processing chrXVI\n",
      "Skipping chrXVI because it already exists\n",
      "Processing chrM\n",
      "Skipping chrM because it already exists\n"
     ]
    }
   ],
   "source": [
    "for chromosome, length in chrom_lengths.items():\n",
    "    print(f\"Processing {chromosome}\")\n",
    "\n",
    "    target_file = f\"../data/prepared/{chromosome}.npz\"\n",
    "\n",
    "    if os.path.exists(target_file):\n",
    "        print(f\"Skipping {chromosome} because it already exists\")\n",
    "        continue\n",
    "\n",
    "    chromosome_embedding = np.load(f\"../data/embeddings/{chromosome}.npy\").astype(np.float16)\n",
    "\n",
    "    assert len(chromosome_embedding) == length, f\"Length of {chromosome} embedding is {len(chromosome_embedding)} but should be {length}\"\n",
    "\n",
    "    valid_genes = chr_valid_genes[chromosome]\n",
    "    valid_cds_coords = [cds_coords[gene] for gene in valid_genes]\n",
    "\n",
    "    gene_embeddings = get_gene_embeddings(valid_cds_coords, chromosome_embedding)\n",
    "    del chromosome_embedding\n",
    "    gene_expression = get_normalized_gene_expression(valid_cds_coords, condition_samples, sample_expression)\n",
    "\n",
    "    np.savez_compressed(target_file, X=gene_embeddings, Y=gene_expression)"
   ]
  },
  {
   "cell_type": "code",
   "execution_count": 8,
   "metadata": {},
   "outputs": [
    {
     "name": "stdout",
     "output_type": "stream",
     "text": [
      "Processing chrI\n"
     ]
    },
    {
     "name": "stderr",
     "output_type": "stream",
     "text": [
      "100%|██████████| 118/118 [00:00<00:00, 96402.00it/s]\n"
     ]
    },
    {
     "name": "stdout",
     "output_type": "stream",
     "text": [
      "Skipping YAL068W-A because it already exists\n",
      "Skipping YAL068C because it already exists\n",
      "Skipping YAL067W-A because it already exists\n",
      "Skipping YAL067C because it already exists\n",
      "Skipping YAL066W because it already exists\n",
      "Skipping YAL065C because it already exists\n",
      "Skipping YAL064W-B because it already exists\n",
      "Skipping YAL064C-A because it already exists\n",
      "Skipping YAL064W because it already exists\n",
      "Skipping YAL063C-A because it already exists\n",
      "Skipping YAL063C because it already exists\n",
      "Skipping YAL062W because it already exists\n",
      "Skipping YAL061W because it already exists\n",
      "Skipping YAL060W because it already exists\n",
      "Skipping YAL059C-A because it already exists\n",
      "Skipping YAL059W because it already exists\n",
      "Skipping YAL058W because it already exists\n",
      "Skipping YAL056C-A because it already exists\n",
      "Skipping YAL056W because it already exists\n",
      "Skipping YAL055W because it already exists\n",
      "Skipping YAL054C because it already exists\n",
      "Skipping YAL053W because it already exists\n",
      "Skipping YAL051W because it already exists\n",
      "Skipping YAL049C because it already exists\n",
      "Skipping YAL048C because it already exists\n",
      "Skipping YAL047W-A because it already exists\n",
      "Skipping YAL047C because it already exists\n",
      "Skipping YAL046C because it already exists\n",
      "Skipping YAL045C because it already exists\n",
      "Skipping YAL044W-A because it already exists\n",
      "Skipping YAL044C because it already exists\n",
      "Skipping YAL043C because it already exists\n",
      "Skipping YAL042C-A because it already exists\n",
      "Skipping YAL042W because it already exists\n",
      "Skipping YAL041W because it already exists\n",
      "Skipping YAL040C because it already exists\n",
      "Skipping YAL039C because it already exists\n",
      "Skipping YAL038W because it already exists\n",
      "Skipping YAL037C-B because it already exists\n",
      "Skipping YAL037C-A because it already exists\n",
      "Skipping YAL037W because it already exists\n",
      "Skipping YAL036C because it already exists\n",
      "Skipping YAL035W because it already exists\n",
      "Skipping YAL034C-B because it already exists\n",
      "Skipping YAL034W-A because it already exists\n",
      "Skipping YAL034C because it already exists\n",
      "Skipping YAL033W because it already exists\n",
      "Skipping YAL032C because it already exists\n",
      "Skipping YAL031W-A because it already exists\n",
      "Skipping YAL031C because it already exists\n",
      "Skipping YAL030W because it already exists\n",
      "Skipping YAL029C because it already exists\n",
      "Skipping YAL028W because it already exists\n",
      "Skipping YAL027W because it already exists\n",
      "Skipping YAL026C-A because it already exists\n",
      "Skipping YAL026C because it already exists\n",
      "Skipping YAL025C because it already exists\n",
      "Skipping YAL024C because it already exists\n",
      "Skipping YAL023C because it already exists\n",
      "Skipping YAL022C because it already exists\n",
      "Skipping YAL021C because it already exists\n",
      "Skipping YAL020C because it already exists\n",
      "Skipping YAL019W-A because it already exists\n",
      "Skipping YAL019W because it already exists\n",
      "Skipping YAL018C because it already exists\n",
      "Skipping YAL017W because it already exists\n",
      "Skipping YAL016C-B because it already exists\n",
      "Skipping YAL016C-A because it already exists\n",
      "Skipping YAL016W because it already exists\n",
      "Skipping YAL015C because it already exists\n",
      "Skipping YAL014C because it already exists\n",
      "Skipping YAL013W because it already exists\n",
      "Skipping YAL012W because it already exists\n",
      "Skipping YAL011W because it already exists\n",
      "Skipping YAL010C because it already exists\n",
      "Skipping YAL009W because it already exists\n",
      "Skipping YAL008W because it already exists\n",
      "Skipping YAL007C because it already exists\n",
      "Skipping YAL005C because it already exists\n",
      "Skipping YAL004W because it already exists\n",
      "Skipping YAL003W because it already exists\n",
      "Skipping YAL002W because it already exists\n",
      "Skipping YAL001C because it already exists\n",
      "Skipping YAR002W because it already exists\n",
      "Skipping YAR002C-A because it already exists\n",
      "Skipping YAR003W because it already exists\n",
      "Skipping YAR007C because it already exists\n",
      "Skipping YAR008W because it already exists\n",
      "Skipping YAR009C because it already exists\n",
      "Skipping YAR010C because it already exists\n",
      "Skipping YAR014C because it already exists\n",
      "Skipping YAR015W because it already exists\n",
      "Skipping YAR018C because it already exists\n",
      "Skipping YAR019C because it already exists\n",
      "Skipping YAR019W-A because it already exists\n",
      "Skipping YAR020C because it already exists\n",
      "Skipping YAR023C because it already exists\n",
      "Skipping YAR027W because it already exists\n",
      "Skipping YAR028W because it already exists\n",
      "Skipping YAR029W because it already exists\n",
      "Skipping YAR030C because it already exists\n",
      "Skipping YAR031W because it already exists\n",
      "Skipping YAR033W because it already exists\n",
      "Skipping YAR035W because it already exists\n",
      "Skipping YAR035C-A because it already exists\n",
      "Skipping YAR042W because it already exists\n",
      "Skipping YAR047C because it already exists\n",
      "Skipping YAR050W because it already exists\n",
      "Skipping YAR053W because it already exists\n",
      "Skipping YAR060C because it already exists\n",
      "Skipping YAR064W because it already exists\n",
      "Skipping YAR066W because it already exists\n",
      "Skipping YAR068W because it already exists\n",
      "Skipping YAR069C because it already exists\n",
      "Skipping YAR070C because it already exists\n",
      "Skipping YAR071W because it already exists\n",
      "Skipping YAR073W because it already exists\n",
      "Skipping YAR075W because it already exists\n",
      "Processing chrII\n"
     ]
    },
    {
     "name": "stderr",
     "output_type": "stream",
     "text": [
      "100%|██████████| 462/462 [02:37<00:00,  2.93it/s]\n"
     ]
    },
    {
     "name": "stdout",
     "output_type": "stream",
     "text": [
      "Processing chrIII\n"
     ]
    },
    {
     "name": "stderr",
     "output_type": "stream",
     "text": [
      "100%|██████████| 185/185 [01:02<00:00,  2.95it/s]\n"
     ]
    },
    {
     "name": "stdout",
     "output_type": "stream",
     "text": [
      "Processing chrIV\n"
     ]
    },
    {
     "name": "stderr",
     "output_type": "stream",
     "text": [
      "100%|██████████| 855/855 [05:32<00:00,  2.57it/s]\n"
     ]
    },
    {
     "name": "stdout",
     "output_type": "stream",
     "text": [
      "Processing chrV\n"
     ]
    },
    {
     "name": "stderr",
     "output_type": "stream",
     "text": [
      "100%|██████████| 328/328 [02:09<00:00,  2.53it/s]\n"
     ]
    },
    {
     "name": "stdout",
     "output_type": "stream",
     "text": [
      "Processing chrVI\n"
     ]
    },
    {
     "name": "stderr",
     "output_type": "stream",
     "text": [
      "100%|██████████| 141/141 [00:59<00:00,  2.38it/s]\n"
     ]
    },
    {
     "name": "stdout",
     "output_type": "stream",
     "text": [
      "Processing chrVII\n"
     ]
    },
    {
     "name": "stderr",
     "output_type": "stream",
     "text": [
      "100%|██████████| 595/595 [03:41<00:00,  2.69it/s]\n"
     ]
    },
    {
     "name": "stdout",
     "output_type": "stream",
     "text": [
      "Processing chrVIII\n"
     ]
    },
    {
     "name": "stderr",
     "output_type": "stream",
     "text": [
      "100%|██████████| 327/327 [01:48<00:00,  3.01it/s]\n"
     ]
    },
    {
     "name": "stdout",
     "output_type": "stream",
     "text": [
      "Processing chrIX\n"
     ]
    },
    {
     "name": "stderr",
     "output_type": "stream",
     "text": [
      "100%|██████████| 244/244 [01:27<00:00,  2.80it/s]\n"
     ]
    },
    {
     "name": "stdout",
     "output_type": "stream",
     "text": [
      "Processing chrX\n"
     ]
    },
    {
     "name": "stderr",
     "output_type": "stream",
     "text": [
      "100%|██████████| 404/404 [02:33<00:00,  2.64it/s]\n"
     ]
    },
    {
     "name": "stdout",
     "output_type": "stream",
     "text": [
      "Processing chrXI\n"
     ]
    },
    {
     "name": "stderr",
     "output_type": "stream",
     "text": [
      "100%|██████████| 348/348 [02:12<00:00,  2.63it/s]\n"
     ]
    },
    {
     "name": "stdout",
     "output_type": "stream",
     "text": [
      "Processing chrXII\n"
     ]
    },
    {
     "name": "stderr",
     "output_type": "stream",
     "text": [
      "100%|██████████| 587/587 [03:46<00:00,  2.59it/s]\n"
     ]
    },
    {
     "name": "stdout",
     "output_type": "stream",
     "text": [
      "Processing chrXIII\n"
     ]
    },
    {
     "name": "stderr",
     "output_type": "stream",
     "text": [
      "100%|██████████| 515/515 [03:16<00:00,  2.63it/s]\n"
     ]
    },
    {
     "name": "stdout",
     "output_type": "stream",
     "text": [
      "Processing chrXIV\n"
     ]
    },
    {
     "name": "stderr",
     "output_type": "stream",
     "text": [
      "100%|██████████| 441/441 [02:41<00:00,  2.73it/s]\n"
     ]
    },
    {
     "name": "stdout",
     "output_type": "stream",
     "text": [
      "Processing chrXV\n"
     ]
    },
    {
     "name": "stderr",
     "output_type": "stream",
     "text": [
      "100%|██████████| 607/607 [04:00<00:00,  2.52it/s]\n"
     ]
    },
    {
     "name": "stdout",
     "output_type": "stream",
     "text": [
      "Processing chrXVI\n"
     ]
    },
    {
     "name": "stderr",
     "output_type": "stream",
     "text": [
      "100%|██████████| 520/520 [03:20<00:00,  2.60it/s]\n"
     ]
    },
    {
     "name": "stdout",
     "output_type": "stream",
     "text": [
      "Processing chrM\n"
     ]
    },
    {
     "name": "stderr",
     "output_type": "stream",
     "text": [
      "100%|██████████| 28/28 [00:09<00:00,  2.87it/s]\n"
     ]
    }
   ],
   "source": [
    "for chr, genes in chr_valid_genes.items():\n",
    "    print(f\"Processing {chr}\")\n",
    "\n",
    "    arr = np.load(f\"../data/prepared/{chr}.npz\")\n",
    "    X = arr[\"X\"]\n",
    "    Y = arr[\"Y\"]\n",
    "    \n",
    "    assert X.shape[0] == len(genes), f\"X.shape[0] = {X.shape[0]} != {len(genes)}\"\n",
    "    assert Y.shape[0] == len(genes), f\"Y.shape[0] = {Y.shape[0]} != {len(genes)}\"\n",
    "    \n",
    "    for i, gene in enumerate(tqdm(genes)):\n",
    "        X_gene = X[i]\n",
    "        Y_gene = Y[i]\n",
    "        \n",
    "        target_file = f\"../data/genes/{gene}.npz\"\n",
    "        if not os.path.exists(target_file):\n",
    "            np.savez_compressed(target_file, X=X_gene, Y=Y_gene)"
   ]
  }
 ],
 "metadata": {
  "kernelspec": {
   "display_name": "Python 3 (ipykernel)",
   "language": "python",
   "name": "python3"
  },
  "language_info": {
   "codemirror_mode": {
    "name": "ipython",
    "version": 3
   },
   "file_extension": ".py",
   "mimetype": "text/x-python",
   "name": "python",
   "nbconvert_exporter": "python",
   "pygments_lexer": "ipython3",
   "version": "3.11.11"
  }
 },
 "nbformat": 4,
 "nbformat_minor": 4
}
