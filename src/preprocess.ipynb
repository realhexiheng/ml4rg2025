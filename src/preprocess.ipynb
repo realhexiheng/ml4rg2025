{
 "cells": [
  {
   "cell_type": "code",
   "execution_count": 1,
   "metadata": {},
   "outputs": [],
   "source": [
    "%load_ext autoreload\n",
    "%autoreload 2"
   ]
  },
  {
   "cell_type": "code",
   "execution_count": 2,
   "metadata": {},
   "outputs": [],
   "source": [
    "from genome import get_chromosome_lengths, parse_gff, get_chromosome_valid_genes\n",
    "from utils import get_gene_embeddings, get_normalized_gene_expression\n",
    "import json\n",
    "import numpy as np\n",
    "import os"
   ]
  },
  {
   "cell_type": "code",
   "execution_count": 3,
   "metadata": {},
   "outputs": [],
   "source": [
    "chrom_lengths = get_chromosome_lengths(\"../data/genome/fasta_file.fsa\")\n",
    "cds_coords = parse_gff(\"../data/genome/gff_file.gff\")"
   ]
  },
  {
   "cell_type": "code",
   "execution_count": 4,
   "metadata": {},
   "outputs": [],
   "source": [
    "condition_samples = json.load(open(\"../data/samples.json\"))\n",
    "conditions = sorted(list(condition_samples.keys()))\n",
    "samples = sorted([s for c_s in condition_samples.values() for s in c_s])"
   ]
  },
  {
   "cell_type": "code",
   "execution_count": 5,
   "metadata": {},
   "outputs": [],
   "source": [
    "sample_expression = {\n",
    "    sample: {\n",
    "        \"+\": np.load(f\"../data/waern_2013/{sample}.sense_bp1.npz\"),\n",
    "        \"-\": np.load(f\"../data/waern_2013/{sample}.antisense_bp1.npz\"),\n",
    "    }\n",
    "    for sample in samples\n",
    "}"
   ]
  },
  {
   "cell_type": "code",
   "execution_count": 6,
   "metadata": {},
   "outputs": [
    {
     "name": "stdout",
     "output_type": "stream",
     "text": [
      "Processing chrI\n",
      "Skipping chrI because it already exists\n",
      "Processing chrII\n",
      "Skipping chrII because it already exists\n",
      "Processing chrIII\n",
      "Skipping chrIII because it already exists\n",
      "Processing chrIV\n"
     ]
    },
    {
     "name": "stderr",
     "output_type": "stream",
     "text": [
      "100%|██████████| 855/855 [00:00<00:00, 1125.35it/s]\n",
      "100%|██████████| 855/855 [12:46<00:00,  1.12it/s]\n"
     ]
    },
    {
     "name": "stdout",
     "output_type": "stream",
     "text": [
      "Processing chrV\n"
     ]
    },
    {
     "name": "stderr",
     "output_type": "stream",
     "text": [
      "100%|██████████| 328/328 [00:00<00:00, 1105.35it/s]\n",
      "100%|██████████| 328/328 [02:01<00:00,  2.70it/s]\n"
     ]
    },
    {
     "name": "stdout",
     "output_type": "stream",
     "text": [
      "Processing chrVI\n"
     ]
    },
    {
     "name": "stderr",
     "output_type": "stream",
     "text": [
      "100%|██████████| 141/141 [00:00<00:00, 947.74it/s]\n",
      "100%|██████████| 141/141 [00:24<00:00,  5.75it/s]\n"
     ]
    },
    {
     "name": "stdout",
     "output_type": "stream",
     "text": [
      "Processing chrVII\n"
     ]
    },
    {
     "name": "stderr",
     "output_type": "stream",
     "text": [
      "100%|██████████| 595/595 [00:00<00:00, 1033.41it/s]\n",
      "100%|██████████| 595/595 [06:57<00:00,  1.42it/s]\n"
     ]
    },
    {
     "name": "stdout",
     "output_type": "stream",
     "text": [
      "Processing chrVIII\n"
     ]
    },
    {
     "name": "stderr",
     "output_type": "stream",
     "text": [
      "100%|██████████| 327/327 [00:00<00:00, 976.05it/s] \n",
      "100%|██████████| 327/327 [01:55<00:00,  2.82it/s]\n"
     ]
    },
    {
     "name": "stdout",
     "output_type": "stream",
     "text": [
      "Processing chrIX\n"
     ]
    },
    {
     "name": "stderr",
     "output_type": "stream",
     "text": [
      "100%|██████████| 244/244 [00:00<00:00, 830.32it/s]\n",
      "100%|██████████| 244/244 [01:07<00:00,  3.61it/s]\n"
     ]
    },
    {
     "name": "stdout",
     "output_type": "stream",
     "text": [
      "Processing chrX\n"
     ]
    },
    {
     "name": "stderr",
     "output_type": "stream",
     "text": [
      "100%|██████████| 404/404 [00:00<00:00, 945.13it/s]\n",
      "100%|██████████| 404/404 [03:13<00:00,  2.09it/s]\n"
     ]
    },
    {
     "name": "stdout",
     "output_type": "stream",
     "text": [
      "Processing chrXI\n"
     ]
    },
    {
     "name": "stderr",
     "output_type": "stream",
     "text": [
      "100%|██████████| 348/348 [00:00<00:00, 545.21it/s] \n",
      "100%|██████████| 348/348 [02:27<00:00,  2.35it/s]\n"
     ]
    },
    {
     "name": "stdout",
     "output_type": "stream",
     "text": [
      "Processing chrXII\n"
     ]
    },
    {
     "name": "stderr",
     "output_type": "stream",
     "text": [
      "100%|██████████| 587/587 [00:00<00:00, 1018.70it/s]\n",
      "100%|██████████| 587/587 [06:41<00:00,  1.46it/s]\n"
     ]
    },
    {
     "name": "stdout",
     "output_type": "stream",
     "text": [
      "Processing chrXIII\n"
     ]
    },
    {
     "name": "stderr",
     "output_type": "stream",
     "text": [
      "100%|██████████| 515/515 [00:00<00:00, 594.17it/s] \n",
      "100%|██████████| 515/515 [05:08<00:00,  1.67it/s]\n"
     ]
    },
    {
     "name": "stdout",
     "output_type": "stream",
     "text": [
      "Processing chrXIV\n"
     ]
    },
    {
     "name": "stderr",
     "output_type": "stream",
     "text": [
      "100%|██████████| 441/441 [00:00<00:00, 813.35it/s]\n",
      "100%|██████████| 441/441 [03:43<00:00,  1.98it/s]\n"
     ]
    },
    {
     "name": "stdout",
     "output_type": "stream",
     "text": [
      "Processing chrXV\n"
     ]
    },
    {
     "name": "stderr",
     "output_type": "stream",
     "text": [
      "100%|██████████| 607/607 [00:00<00:00, 965.80it/s] \n",
      "100%|██████████| 607/607 [06:54<00:00,  1.46it/s]\n"
     ]
    },
    {
     "name": "stdout",
     "output_type": "stream",
     "text": [
      "Processing chrXVI\n"
     ]
    },
    {
     "name": "stderr",
     "output_type": "stream",
     "text": [
      "100%|██████████| 520/520 [00:00<00:00, 1020.34it/s]\n",
      "100%|██████████| 520/520 [05:14<00:00,  1.65it/s]\n"
     ]
    },
    {
     "name": "stdout",
     "output_type": "stream",
     "text": [
      "Processing chrM\n"
     ]
    },
    {
     "name": "stderr",
     "output_type": "stream",
     "text": [
      "100%|██████████| 28/28 [00:00<00:00, 988.72it/s]\n",
      "100%|██████████| 28/28 [00:02<00:00, 10.14it/s]\n"
     ]
    }
   ],
   "source": [
    "chr_valid_genes = get_chromosome_valid_genes(cds_coords, chrom_lengths)\n",
    "\n",
    "for chromosome, length in chrom_lengths.items():\n",
    "    print(f\"Processing {chromosome}\")\n",
    "\n",
    "    target_file = f\"../data/prepared/{chromosome}.npz\"\n",
    "\n",
    "    if os.path.exists(target_file):\n",
    "        print(f\"Skipping {chromosome} because it already exists\")\n",
    "        continue\n",
    "\n",
    "    chromosome_embedding = np.load(f\"../data/embeddings/{chromosome}.npy\").astype(np.float16)\n",
    "\n",
    "    assert len(chromosome_embedding) == length, f\"Length of {chromosome} embedding is {len(chromosome_embedding)} but should be {length}\"\n",
    "\n",
    "    valid_genes = chr_valid_genes[chromosome]\n",
    "    valid_cds_coords = [cds_coords[gene] for gene in valid_genes]\n",
    "\n",
    "    gene_embeddings = get_gene_embeddings(valid_cds_coords, chromosome_embedding)\n",
    "    del chromosome_embedding\n",
    "    gene_expression = get_normalized_gene_expression(valid_cds_coords, condition_samples, sample_expression)\n",
    "\n",
    "    np.savez_compressed(target_file, X=gene_embeddings, Y=gene_expression)"
   ]
  },
  {
   "cell_type": "code",
   "execution_count": 7,
   "metadata": {},
   "outputs": [
    {
     "name": "stdout",
     "output_type": "stream",
     "text": [
      "6705\n"
     ]
    }
   ],
   "source": [
    "sum_genes = 0\n",
    "for chromosome, valid_genes in chr_valid_genes.items():\n",
    "    sum_genes += len(valid_genes)\n",
    "\n",
    "print(sum_genes)"
   ]
  }
 ],
 "metadata": {
  "kernelspec": {
   "display_name": ".venv",
   "language": "python",
   "name": "python3"
  },
  "language_info": {
   "codemirror_mode": {
    "name": "ipython",
    "version": 3
   },
   "file_extension": ".py",
   "mimetype": "text/x-python",
   "name": "python",
   "nbconvert_exporter": "python",
   "pygments_lexer": "ipython3",
   "version": "3.12.9"
  }
 },
 "nbformat": 4,
 "nbformat_minor": 2
}
